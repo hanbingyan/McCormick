{
 "cells": [
  {
   "cell_type": "code",
   "execution_count": 1,
   "id": "5e130e3c",
   "metadata": {},
   "outputs": [],
   "source": [
    "import matplotlib.pyplot as plt\n",
    "import pandas as pd\n",
    "import numpy as np\n",
    "import pickle\n",
    "import time\n",
    "import os\n",
    "import seaborn as sns\n",
    "from datetime import datetime"
   ]
  },
  {
   "cell_type": "code",
   "execution_count": 2,
   "id": "a9ec725c",
   "metadata": {},
   "outputs": [],
   "source": [
    "sns.set_style(\"whitegrid\")"
   ]
  },
  {
   "cell_type": "code",
   "execution_count": 3,
   "id": "374290f2",
   "metadata": {},
   "outputs": [],
   "source": [
    "#### GILD and GSK\n",
    "# ticker1 = 'GILD'\n",
    "# ticker2= 'GSK'\n",
    "\n",
    "ticker1 = 'JPM'\n",
    "ticker2 = 'MS'\n",
    "\n",
    "log_dir = './logs/{}_{}_uncons'.format(ticker1, ticker2)"
   ]
  },
  {
   "cell_type": "code",
   "execution_count": 4,
   "id": "2d62de43",
   "metadata": {},
   "outputs": [],
   "source": [
    "res = pd.read_csv('{}/{}_{}.csv'.format(log_dir, ticker1, ticker2))"
   ]
  },
  {
   "cell_type": "code",
   "execution_count": 5,
   "id": "ce1e0b26-6d83-48e3-b522-8041b7efd124",
   "metadata": {},
   "outputs": [
    {
     "data": {
      "text/plain": [
       "0.9892441786505373"
      ]
     },
     "execution_count": 5,
     "metadata": {},
     "output_type": "execute_result"
    }
   ],
   "source": [
    "res['Ratios'].mean()"
   ]
  },
  {
   "cell_type": "code",
   "execution_count": 6,
   "id": "b0bfdb43-a135-4102-8045-1687fe915263",
   "metadata": {},
   "outputs": [
    {
     "data": {
      "text/plain": [
       "0.010800000000000032"
      ]
     },
     "execution_count": 6,
     "metadata": {},
     "output_type": "execute_result"
    }
   ],
   "source": [
    "1 - 0.9892"
   ]
  },
  {
   "cell_type": "code",
   "execution_count": null,
   "id": "5dc0434b",
   "metadata": {},
   "outputs": [],
   "source": [
    "res['Ratios'].min()"
   ]
  },
  {
   "cell_type": "code",
   "execution_count": null,
   "id": "1f5947b8",
   "metadata": {},
   "outputs": [],
   "source": [
    "sns.displot(res['Ratios'], stat='probability', color='tab:blue', bins=np.linspace(0.955, 1.0, num=10), height=4, aspect=1.6)\n",
    "plt.xticks(np.linspace(0.955, 1.0, num=10), fontsize=14)\n",
    "plt.yticks(fontsize=14)\n",
    "plt.xlabel('Ratios', fontsize = 14)\n",
    "plt.ylabel('Proportion', fontsize = 14)\n",
    "plt.savefig('{}/{}_{}.pdf'.format(log_dir, ticker1, ticker2), format='pdf',\n",
    "            dpi=1000, bbox_inches='tight', pad_inches=0.1)\n",
    "# plt.show()"
   ]
  },
  {
   "cell_type": "code",
   "execution_count": null,
   "id": "e307caae",
   "metadata": {},
   "outputs": [],
   "source": [
    "# #### For GILD_GSK\n",
    "sns.displot(res['Ratios'], stat='probability', color='tab:blue', bins=np.linspace(0.8, 1.0, num=9), height=4, aspect=1.6)\n",
    "plt.xticks(np.linspace(0.8, 1.0, num=9), fontsize=14)\n",
    "plt.yticks(fontsize=14)\n",
    "plt.xlabel('Ratios', fontsize = 14)\n",
    "plt.ylabel('Proportion', fontsize = 14)\n",
    "plt.savefig('{}/{}_{}.pdf'.format(log_dir, ticker1, ticker2), format='pdf',\n",
    "            dpi=1000, bbox_inches='tight', pad_inches=0.1)"
   ]
  },
  {
   "cell_type": "code",
   "execution_count": null,
   "id": "38cd0008",
   "metadata": {},
   "outputs": [],
   "source": [
    "res[::40]"
   ]
  },
  {
   "cell_type": "code",
   "execution_count": null,
   "id": "5a5634d4",
   "metadata": {
    "scrolled": true
   },
   "outputs": [],
   "source": [
    "print(res[::40].to_latex(index=False, formatters={\"name\": str.upper}, float_format=\"{:.4f}\".format))"
   ]
  },
  {
   "cell_type": "code",
   "execution_count": null,
   "id": "7d3be76d",
   "metadata": {},
   "outputs": [],
   "source": [
    "with open('{}/{}_{}_px1.pickle'.format(log_dir, ticker1, ticker2), 'rb') as fp:\n",
    "    px1 = pickle.load(fp)\n",
    "\n",
    "with open('{}/{}_{}_X1.pickle'.format(log_dir, ticker1, ticker2), 'rb') as fp:\n",
    "    X1 = pickle.load(fp)"
   ]
  },
  {
   "cell_type": "code",
   "execution_count": null,
   "id": "644dfded",
   "metadata": {
    "scrolled": true
   },
   "outputs": [],
   "source": [
    "px1[0]"
   ]
  },
  {
   "cell_type": "code",
   "execution_count": null,
   "id": "c7c4dd6b",
   "metadata": {},
   "outputs": [],
   "source": [
    "X1[0]"
   ]
  },
  {
   "cell_type": "code",
   "execution_count": null,
   "id": "159ac014",
   "metadata": {},
   "outputs": [],
   "source": []
  }
 ],
 "metadata": {
  "kernelspec": {
   "display_name": "Python 3 (ipykernel)",
   "language": "python",
   "name": "python3"
  },
  "language_info": {
   "codemirror_mode": {
    "name": "ipython",
    "version": 3
   },
   "file_extension": ".py",
   "mimetype": "text/x-python",
   "name": "python",
   "nbconvert_exporter": "python",
   "pygments_lexer": "ipython3",
   "version": "3.12.7"
  }
 },
 "nbformat": 4,
 "nbformat_minor": 5
}
