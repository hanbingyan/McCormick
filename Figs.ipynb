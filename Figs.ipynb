{
 "cells": [
  {
   "cell_type": "code",
   "execution_count": 1,
   "id": "5e130e3c",
   "metadata": {},
   "outputs": [],
   "source": [
    "import matplotlib.pyplot as plt\n",
    "import pandas as pd\n",
    "import numpy as np\n",
    "import pickle\n",
    "import time\n",
    "import ot\n",
    "import os\n",
    "import seaborn as sns\n",
    "from datetime import datetime"
   ]
  },
  {
   "cell_type": "code",
   "execution_count": 2,
   "id": "a9ec725c",
   "metadata": {},
   "outputs": [],
   "source": [
    "sns.set_style(\"whitegrid\")"
   ]
  },
  {
   "cell_type": "code",
   "execution_count": 19,
   "id": "374290f2",
   "metadata": {},
   "outputs": [],
   "source": [
    "ticker1 = 'GILD'\n",
    "ticker2= 'GSK'\n",
    "log_dir = './{}_{}_logs'.format(ticker1, ticker2)"
   ]
  },
  {
   "cell_type": "code",
   "execution_count": 20,
   "id": "2d62de43",
   "metadata": {},
   "outputs": [],
   "source": [
    "res = pd.read_csv('{}/{}_{}.csv'.format(log_dir, ticker1, ticker2))"
   ]
  },
  {
   "cell_type": "code",
   "execution_count": 21,
   "id": "5dc0434b",
   "metadata": {},
   "outputs": [
    {
     "data": {
      "text/plain": [
       "0.7960747100926463"
      ]
     },
     "execution_count": 21,
     "metadata": {},
     "output_type": "execute_result"
    }
   ],
   "source": [
    "res['Ratios'].min()"
   ]
  },
  {
   "cell_type": "code",
   "execution_count": null,
   "id": "1f5947b8",
   "metadata": {},
   "outputs": [],
   "source": [
    "# sns.displot(res['Ratios'], stat='probability', color='tab:blue', bins=np.linspace(0.96, 1.0, num=9), height=4, aspect=1.6)\n",
    "# plt.xticks(np.linspace(0.96, 1.0, num=9), fontsize=15)\n",
    "# plt.yticks(fontsize=14)\n",
    "# plt.xlabel('Ratios', fontsize = 14)\n",
    "# plt.ylabel('Proportion', fontsize = 14)\n",
    "# plt.savefig('{}/{}_{}.pdf'.format(log_dir, ticker1, ticker2), format='pdf',\n",
    "#             dpi=1000, bbox_inches='tight', pad_inches=0.1)"
   ]
  },
  {
   "cell_type": "code",
   "execution_count": 22,
   "id": "e307caae",
   "metadata": {},
   "outputs": [
    {
     "data": {
      "text/plain": [
       "Text(1.6944444444444446, 0.5, 'Proportion')"
      ]
     },
     "execution_count": 22,
     "metadata": {},
     "output_type": "execute_result"
    },
    {
     "data": {
      "image/png": "[encoded data removed]",
      "text/plain": [
       "<Figure size 640x400 with 1 Axes>"
      ]
     },
     "metadata": {},
     "output_type": "display_data"
    }
   ],
   "source": [
    "#### For GILD_GSK\n",
    "sns.displot(res['Ratios'], stat='probability', color='tab:blue', bins=np.linspace(0.775, 1.0, num=10), height=4, aspect=1.6)\n",
    "plt.xticks(np.linspace(0.775, 1.0, num=10), fontsize=14)\n",
    "plt.yticks(fontsize=14)\n",
    "plt.xlabel('Ratios', fontsize = 14)\n",
    "plt.ylabel('Proportion', fontsize = 14)\n",
    "# plt.savefig('{}/{}_{}.pdf'.format(log_dir, ticker1, ticker2), format='pdf',\n",
    "#             dpi=1000, bbox_inches='tight', pad_inches=0.1)"
   ]
  },
  {
   "cell_type": "code",
   "execution_count": 23,
   "id": "38cd0008",
   "metadata": {},
   "outputs": [
    {
     "data": {
      "text/html": [
       "<div>\n",
       "<style scoped>\n",
       "    .dataframe tbody tr th:only-of-type {\n",
       "        vertical-align: middle;\n",
       "    }\n",
       "\n",
       "    .dataframe tbody tr th {\n",
       "        vertical-align: top;\n",
       "    }\n",
       "\n",
       "    .dataframe thead th {\n",
       "        text-align: right;\n",
       "    }\n",
       "</style>\n",
       "<table border=\"1\" class=\"dataframe\">\n",
       "  <thead>\n",
       "    <tr style=\"text-align: right;\">\n",
       "      <th></th>\n",
       "      <th>time0</th>\n",
       "      <th>time1</th>\n",
       "      <th>time2</th>\n",
       "      <th>strike</th>\n",
       "      <th>MOT_max</th>\n",
       "      <th>MOT_min</th>\n",
       "      <th>McCormick_max</th>\n",
       "      <th>McCormick_min</th>\n",
       "      <th>Ratios</th>\n",
       "    </tr>\n",
       "  </thead>\n",
       "  <tbody>\n",
       "    <tr>\n",
       "      <th>0</th>\n",
       "      <td>2022-02-28</td>\n",
       "      <td>2022-03-04</td>\n",
       "      <td>2022-04-01</td>\n",
       "      <td>50</td>\n",
       "      <td>1.885826</td>\n",
       "      <td>1.354467</td>\n",
       "      <td>1.884135</td>\n",
       "      <td>1.358227</td>\n",
       "      <td>0.989743</td>\n",
       "    </tr>\n",
       "    <tr>\n",
       "      <th>40</th>\n",
       "      <td>2022-04-26</td>\n",
       "      <td>2022-04-29</td>\n",
       "      <td>2022-05-27</td>\n",
       "      <td>52</td>\n",
       "      <td>2.037078</td>\n",
       "      <td>1.447860</td>\n",
       "      <td>2.035355</td>\n",
       "      <td>1.449192</td>\n",
       "      <td>0.994816</td>\n",
       "    </tr>\n",
       "    <tr>\n",
       "      <th>80</th>\n",
       "      <td>2022-06-23</td>\n",
       "      <td>2022-06-24</td>\n",
       "      <td>2022-07-22</td>\n",
       "      <td>52</td>\n",
       "      <td>1.304322</td>\n",
       "      <td>0.879231</td>\n",
       "      <td>1.264577</td>\n",
       "      <td>0.887300</td>\n",
       "      <td>0.887520</td>\n",
       "    </tr>\n",
       "    <tr>\n",
       "      <th>120</th>\n",
       "      <td>2022-08-26</td>\n",
       "      <td>2022-09-02</td>\n",
       "      <td>2022-09-30</td>\n",
       "      <td>47</td>\n",
       "      <td>1.189717</td>\n",
       "      <td>0.878304</td>\n",
       "      <td>1.171764</td>\n",
       "      <td>0.897830</td>\n",
       "      <td>0.879647</td>\n",
       "    </tr>\n",
       "    <tr>\n",
       "      <th>160</th>\n",
       "      <td>2022-10-24</td>\n",
       "      <td>2022-10-28</td>\n",
       "      <td>2022-11-25</td>\n",
       "      <td>50</td>\n",
       "      <td>1.489015</td>\n",
       "      <td>0.664301</td>\n",
       "      <td>1.483622</td>\n",
       "      <td>0.668413</td>\n",
       "      <td>0.988475</td>\n",
       "    </tr>\n",
       "    <tr>\n",
       "      <th>200</th>\n",
       "      <td>2022-12-20</td>\n",
       "      <td>2022-12-23</td>\n",
       "      <td>2023-01-20</td>\n",
       "      <td>59</td>\n",
       "      <td>1.661537</td>\n",
       "      <td>1.088605</td>\n",
       "      <td>1.649429</td>\n",
       "      <td>1.092532</td>\n",
       "      <td>0.972012</td>\n",
       "    </tr>\n",
       "    <tr>\n",
       "      <th>240</th>\n",
       "      <td>2023-02-17</td>\n",
       "      <td>2023-02-24</td>\n",
       "      <td>2023-03-24</td>\n",
       "      <td>60</td>\n",
       "      <td>1.199659</td>\n",
       "      <td>0.681775</td>\n",
       "      <td>1.197152</td>\n",
       "      <td>0.688668</td>\n",
       "      <td>0.981851</td>\n",
       "    </tr>\n",
       "  </tbody>\n",
       "</table>\n",
       "</div>"
      ],
      "text/plain": [
       "          time0       time1       time2  strike   MOT_max   MOT_min  \\\n",
       "0    2022-02-28  2022-03-04  2022-04-01      50  1.885826  1.354467   \n",
       "40   2022-04-26  2022-04-29  2022-05-27      52  2.037078  1.447860   \n",
       "80   2022-06-23  2022-06-24  2022-07-22      52  1.304322  0.879231   \n",
       "120  2022-08-26  2022-09-02  2022-09-30      47  1.189717  0.878304   \n",
       "160  2022-10-24  2022-10-28  2022-11-25      50  1.489015  0.664301   \n",
       "200  2022-12-20  2022-12-23  2023-01-20      59  1.661537  1.088605   \n",
       "240  2023-02-17  2023-02-24  2023-03-24      60  1.199659  0.681775   \n",
       "\n",
       "     McCormick_max  McCormick_min    Ratios  \n",
       "0         1.884135       1.358227  0.989743  \n",
       "40        2.035355       1.449192  0.994816  \n",
       "80        1.264577       0.887300  0.887520  \n",
       "120       1.171764       0.897830  0.879647  \n",
       "160       1.483622       0.668413  0.988475  \n",
       "200       1.649429       1.092532  0.972012  \n",
       "240       1.197152       0.688668  0.981851  "
      ]
     },
     "execution_count": 23,
     "metadata": {},
     "output_type": "execute_result"
    }
   ],
   "source": [
    "res[::40]"
   ]
  },
  {
   "cell_type": "code",
   "execution_count": 12,
   "id": "5a5634d4",
   "metadata": {
    "scrolled": true
   },
   "outputs": [
    {
     "name": "stdout",
     "output_type": "stream",
     "text": [
      "\\begin{tabular}{lllrrrrrr}\n",
      "\\toprule\n",
      "     time0 &      time1 &      time2 &  strike &  MOT\\_max &  MOT\\_min &  McCormick\\_max &  McCormick\\_min &  Ratios \\\\\n",
      "\\midrule\n",
      "2022-02-28 & 2022-03-04 & 2022-04-01 &      50 &  1.95524 &  1.22013 &        1.95051 &        1.22335 & 0.98918 \\\\\n",
      "2022-04-26 & 2022-04-29 & 2022-05-27 &      52 &  1.99773 &  1.39980 &        1.99376 &        1.40194 & 0.98978 \\\\\n",
      "2022-06-23 & 2022-06-24 & 2022-07-22 &      52 &  1.30432 &  0.87923 &        1.26458 &        0.88730 & 0.88752 \\\\\n",
      "2022-08-26 & 2022-09-02 & 2022-09-30 &      47 &  1.35285 &  1.05204 &        1.31280 &        1.06299 & 0.83047 \\\\\n",
      "2022-10-24 & 2022-10-28 & 2022-11-25 &      50 &  1.46885 &  0.67285 &        1.46224 &        0.69153 & 0.96822 \\\\\n",
      "2022-12-20 & 2022-12-23 & 2023-01-20 &      59 &  1.65763 &  1.11048 &        1.63776 &        1.11986 & 0.94653 \\\\\n",
      "2023-02-17 & 2023-02-24 & 2023-03-24 &      60 &  1.18887 &  0.66710 &        1.18599 &        0.67470 & 0.97990 \\\\\n",
      "\\bottomrule\n",
      "\\end{tabular}\n",
      "\n"
     ]
    },
    {
     "name": "stderr",
     "output_type": "stream",
     "text": [
      "C:\\Users\\Sakura\\AppData\\Local\\Temp\\ipykernel_10580\\3149800332.py:1: FutureWarning: In future versions `DataFrame.to_latex` is expected to utilise the base implementation of `Styler.to_latex` for formatting and rendering. The arguments signature may therefore change. It is recommended instead to use `DataFrame.style.to_latex` which also contains additional functionality.\n",
      "  print(res[::40].to_latex(index=False,\n"
     ]
    }
   ],
   "source": [
    "print(res[::40].to_latex(index=False,\n",
    "                  formatters={\"name\": str.upper},\n",
    "                  float_format=\"{:.5f}\".format,\n",
    "                 ))"
   ]
  },
  {
   "cell_type": "code",
   "execution_count": null,
   "id": "7d3be76d",
   "metadata": {},
   "outputs": [],
   "source": [
    "with open('{}/{}_{}_px1.pickle'.format(log_dir, ticker1, ticker2), 'rb') as fp:\n",
    "    px1 = pickle.load(fp)\n",
    "\n",
    "with open('{}/{}_{}_X1.pickle'.format(log_dir, ticker1, ticker2), 'rb') as fp:\n",
    "    X1 = pickle.load(fp)"
   ]
  },
  {
   "cell_type": "code",
   "execution_count": null,
   "id": "644dfded",
   "metadata": {
    "scrolled": true
   },
   "outputs": [],
   "source": [
    "px1[0]"
   ]
  },
  {
   "cell_type": "code",
   "execution_count": null,
   "id": "c7c4dd6b",
   "metadata": {},
   "outputs": [],
   "source": [
    "X1[0]"
   ]
  },
  {
   "cell_type": "code",
   "execution_count": null,
   "id": "159ac014",
   "metadata": {},
   "outputs": [],
   "source": []
  }
 ],
 "metadata": {
  "kernelspec": {
   "display_name": "Python 3 (ipykernel)",
   "language": "python",
   "name": "python3"
  },
  "language_info": {
   "codemirror_mode": {
    "name": "ipython",
    "version": 3
   },
   "file_extension": ".py",
   "mimetype": "text/x-python",
   "name": "python",
   "nbconvert_exporter": "python",
   "pygments_lexer": "ipython3",
   "version": "3.9.16"
  }
 },
 "nbformat": 4,
 "nbformat_minor": 5
}
