{
 "cells": [
  {
   "cell_type": "code",
   "execution_count": 1,
   "id": "5e130e3c",
   "metadata": {},
   "outputs": [],
   "source": [
    "import matplotlib.pyplot as plt\n",
    "import pandas as pd\n",
    "import numpy as np\n",
    "import pickle\n",
    "import time\n",
    "import ot\n",
    "import os\n",
    "import seaborn as sns\n",
    "from datetime import datetime"
   ]
  },
  {
   "cell_type": "code",
   "execution_count": 2,
   "id": "a9ec725c",
   "metadata": {},
   "outputs": [],
   "source": [
    "sns.set_style(\"whitegrid\")"
   ]
  },
  {
   "cell_type": "code",
   "execution_count": 3,
   "id": "374290f2",
   "metadata": {},
   "outputs": [],
   "source": [
    "#### GILD and GSK\n",
    "ticker1 = 'JPM'\n",
    "ticker2= 'MS'\n",
    "log_dir = './{}_{}_logs'.format(ticker1, ticker2)"
   ]
  },
  {
   "cell_type": "code",
   "execution_count": 4,
   "id": "2d62de43",
   "metadata": {},
   "outputs": [],
   "source": [
    "res = pd.read_csv('{}/{}_{}.csv'.format(log_dir, ticker1, ticker2))"
   ]
  },
  {
   "cell_type": "code",
   "execution_count": 5,
   "id": "5dc0434b",
   "metadata": {},
   "outputs": [
    {
     "data": {
      "text/plain": [
       "0.9552419077456462"
      ]
     },
     "execution_count": 5,
     "metadata": {},
     "output_type": "execute_result"
    }
   ],
   "source": [
    "res['Ratios'].min()"
   ]
  },
  {
   "cell_type": "code",
   "execution_count": 9,
   "id": "1f5947b8",
   "metadata": {},
   "outputs": [
    {
     "data": {
      "image/png": "[encoded data removed]",
      "text/plain": [
       "<Figure size 640x400 with 1 Axes>"
      ]
     },
     "metadata": {},
     "output_type": "display_data"
    }
   ],
   "source": [
    "sns.displot(res['Ratios'], stat='probability', color='tab:blue', bins=np.linspace(0.955, 1.0, num=10), height=4, aspect=1.6)\n",
    "plt.xticks(np.linspace(0.955, 1.0, num=10), fontsize=14)\n",
    "plt.yticks(fontsize=14)\n",
    "plt.xlabel('Ratios', fontsize = 14)\n",
    "plt.ylabel('Proportion', fontsize = 14)\n",
    "plt.savefig('{}/{}_{}.pdf'.format(log_dir, ticker1, ticker2), format='pdf',\n",
    "            dpi=1000, bbox_inches='tight', pad_inches=0.1)"
   ]
  },
  {
   "cell_type": "code",
   "execution_count": null,
   "id": "e307caae",
   "metadata": {},
   "outputs": [],
   "source": [
    "# #### For GILD_GSK\n",
    "# sns.displot(res['Ratios'], stat='probability', color='tab:blue', bins=np.linspace(0.775, 1.0, num=10), height=4, aspect=1.6)\n",
    "# plt.xticks(np.linspace(0.775, 1.0, num=10), fontsize=14)\n",
    "# plt.yticks(fontsize=14)\n",
    "# plt.xlabel('Ratios', fontsize = 14)\n",
    "# plt.ylabel('Proportion', fontsize = 14)\n",
    "# plt.savefig('{}/{}_{}.pdf'.format(log_dir, ticker1, ticker2), format='pdf',\n",
    "#             dpi=1000, bbox_inches='tight', pad_inches=0.1)"
   ]
  },
  {
   "cell_type": "code",
   "execution_count": 10,
   "id": "38cd0008",
   "metadata": {},
   "outputs": [
    {
     "data": {
      "text/html": [
       "<div>\n",
       "<style scoped>\n",
       "    .dataframe tbody tr th:only-of-type {\n",
       "        vertical-align: middle;\n",
       "    }\n",
       "\n",
       "    .dataframe tbody tr th {\n",
       "        vertical-align: top;\n",
       "    }\n",
       "\n",
       "    .dataframe thead th {\n",
       "        text-align: right;\n",
       "    }\n",
       "</style>\n",
       "<table border=\"1\" class=\"dataframe\">\n",
       "  <thead>\n",
       "    <tr style=\"text-align: right;\">\n",
       "      <th></th>\n",
       "      <th>time0</th>\n",
       "      <th>time1</th>\n",
       "      <th>time2</th>\n",
       "      <th>strike</th>\n",
       "      <th>MOT_max</th>\n",
       "      <th>MOT_min</th>\n",
       "      <th>McCormick_max</th>\n",
       "      <th>McCormick_min</th>\n",
       "      <th>Ratios</th>\n",
       "    </tr>\n",
       "  </thead>\n",
       "  <tbody>\n",
       "    <tr>\n",
       "      <th>0</th>\n",
       "      <td>2022-02-28</td>\n",
       "      <td>2022-03-04</td>\n",
       "      <td>2022-04-01</td>\n",
       "      <td>116</td>\n",
       "      <td>3.517437</td>\n",
       "      <td>1.605462</td>\n",
       "      <td>3.511890</td>\n",
       "      <td>1.616202</td>\n",
       "      <td>0.991482</td>\n",
       "    </tr>\n",
       "    <tr>\n",
       "      <th>40</th>\n",
       "      <td>2022-04-26</td>\n",
       "      <td>2022-04-29</td>\n",
       "      <td>2022-05-27</td>\n",
       "      <td>102</td>\n",
       "      <td>3.311268</td>\n",
       "      <td>1.354986</td>\n",
       "      <td>3.304570</td>\n",
       "      <td>1.371439</td>\n",
       "      <td>0.988165</td>\n",
       "    </tr>\n",
       "    <tr>\n",
       "      <th>80</th>\n",
       "      <td>2022-06-23</td>\n",
       "      <td>2022-06-24</td>\n",
       "      <td>2022-07-22</td>\n",
       "      <td>93</td>\n",
       "      <td>2.915879</td>\n",
       "      <td>1.226350</td>\n",
       "      <td>2.908649</td>\n",
       "      <td>1.232318</td>\n",
       "      <td>0.992189</td>\n",
       "    </tr>\n",
       "    <tr>\n",
       "      <th>120</th>\n",
       "      <td>2022-08-19</td>\n",
       "      <td>2022-08-26</td>\n",
       "      <td>2022-09-23</td>\n",
       "      <td>104</td>\n",
       "      <td>2.554034</td>\n",
       "      <td>0.720751</td>\n",
       "      <td>2.536984</td>\n",
       "      <td>0.734529</td>\n",
       "      <td>0.983185</td>\n",
       "    </tr>\n",
       "    <tr>\n",
       "      <th>160</th>\n",
       "      <td>2022-10-17</td>\n",
       "      <td>2022-10-21</td>\n",
       "      <td>2022-11-18</td>\n",
       "      <td>96</td>\n",
       "      <td>3.070633</td>\n",
       "      <td>0.812611</td>\n",
       "      <td>3.066712</td>\n",
       "      <td>0.831104</td>\n",
       "      <td>0.990074</td>\n",
       "    </tr>\n",
       "    <tr>\n",
       "      <th>200</th>\n",
       "      <td>2022-12-13</td>\n",
       "      <td>2022-12-16</td>\n",
       "      <td>2023-01-13</td>\n",
       "      <td>113</td>\n",
       "      <td>2.896045</td>\n",
       "      <td>0.697131</td>\n",
       "      <td>2.894915</td>\n",
       "      <td>0.716008</td>\n",
       "      <td>0.990901</td>\n",
       "    </tr>\n",
       "    <tr>\n",
       "      <th>240</th>\n",
       "      <td>2023-02-10</td>\n",
       "      <td>2023-02-17</td>\n",
       "      <td>2023-03-17</td>\n",
       "      <td>120</td>\n",
       "      <td>2.570273</td>\n",
       "      <td>0.384927</td>\n",
       "      <td>2.564000</td>\n",
       "      <td>0.396599</td>\n",
       "      <td>0.991789</td>\n",
       "    </tr>\n",
       "  </tbody>\n",
       "</table>\n",
       "</div>"
      ],
      "text/plain": [
       "          time0       time1       time2  strike   MOT_max   MOT_min  \\\n",
       "0    2022-02-28  2022-03-04  2022-04-01     116  3.517437  1.605462   \n",
       "40   2022-04-26  2022-04-29  2022-05-27     102  3.311268  1.354986   \n",
       "80   2022-06-23  2022-06-24  2022-07-22      93  2.915879  1.226350   \n",
       "120  2022-08-19  2022-08-26  2022-09-23     104  2.554034  0.720751   \n",
       "160  2022-10-17  2022-10-21  2022-11-18      96  3.070633  0.812611   \n",
       "200  2022-12-13  2022-12-16  2023-01-13     113  2.896045  0.697131   \n",
       "240  2023-02-10  2023-02-17  2023-03-17     120  2.570273  0.384927   \n",
       "\n",
       "     McCormick_max  McCormick_min    Ratios  \n",
       "0         3.511890       1.616202  0.991482  \n",
       "40        3.304570       1.371439  0.988165  \n",
       "80        2.908649       1.232318  0.992189  \n",
       "120       2.536984       0.734529  0.983185  \n",
       "160       3.066712       0.831104  0.990074  \n",
       "200       2.894915       0.716008  0.990901  \n",
       "240       2.564000       0.396599  0.991789  "
      ]
     },
     "execution_count": 10,
     "metadata": {},
     "output_type": "execute_result"
    }
   ],
   "source": [
    "res[::40]"
   ]
  },
  {
   "cell_type": "code",
   "execution_count": 11,
   "id": "5a5634d4",
   "metadata": {
    "scrolled": true
   },
   "outputs": [
    {
     "name": "stdout",
     "output_type": "stream",
     "text": [
      "\\begin{tabular}{lllrrrrrr}\n",
      "\\toprule\n",
      "     time0 &      time1 &      time2 &  strike &  MOT\\_max &  MOT\\_min &  McCormick\\_max &  McCormick\\_min &  Ratios \\\\\n",
      "\\midrule\n",
      "2022-02-28 & 2022-03-04 & 2022-04-01 &     116 &  3.51744 &  1.60546 &        3.51189 &        1.61620 & 0.99148 \\\\\n",
      "2022-04-26 & 2022-04-29 & 2022-05-27 &     102 &  3.31127 &  1.35499 &        3.30457 &        1.37144 & 0.98817 \\\\\n",
      "2022-06-23 & 2022-06-24 & 2022-07-22 &      93 &  2.91588 &  1.22635 &        2.90865 &        1.23232 & 0.99219 \\\\\n",
      "2022-08-19 & 2022-08-26 & 2022-09-23 &     104 &  2.55403 &  0.72075 &        2.53698 &        0.73453 & 0.98318 \\\\\n",
      "2022-10-17 & 2022-10-21 & 2022-11-18 &      96 &  3.07063 &  0.81261 &        3.06671 &        0.83110 & 0.99007 \\\\\n",
      "2022-12-13 & 2022-12-16 & 2023-01-13 &     113 &  2.89605 &  0.69713 &        2.89492 &        0.71601 & 0.99090 \\\\\n",
      "2023-02-10 & 2023-02-17 & 2023-03-17 &     120 &  2.57027 &  0.38493 &        2.56400 &        0.39660 & 0.99179 \\\\\n",
      "\\bottomrule\n",
      "\\end{tabular}\n",
      "\n"
     ]
    },
    {
     "name": "stderr",
     "output_type": "stream",
     "text": [
      "C:\\Users\\Sakura\\AppData\\Local\\Temp\\ipykernel_14548\\283502282.py:1: FutureWarning: In future versions `DataFrame.to_latex` is expected to utilise the base implementation of `Styler.to_latex` for formatting and rendering. The arguments signature may therefore change. It is recommended instead to use `DataFrame.style.to_latex` which also contains additional functionality.\n",
      "  print(res[::40].to_latex(index=False, formatters={\"name\": str.upper}, float_format=\"{:.5f}\".format))\n"
     ]
    }
   ],
   "source": [
    "print(res[::40].to_latex(index=False, formatters={\"name\": str.upper}, float_format=\"{:.5f}\".format))"
   ]
  },
  {
   "cell_type": "code",
   "execution_count": null,
   "id": "7d3be76d",
   "metadata": {},
   "outputs": [],
   "source": [
    "with open('{}/{}_{}_px1.pickle'.format(log_dir, ticker1, ticker2), 'rb') as fp:\n",
    "    px1 = pickle.load(fp)\n",
    "\n",
    "with open('{}/{}_{}_X1.pickle'.format(log_dir, ticker1, ticker2), 'rb') as fp:\n",
    "    X1 = pickle.load(fp)"
   ]
  },
  {
   "cell_type": "code",
   "execution_count": null,
   "id": "644dfded",
   "metadata": {
    "scrolled": true
   },
   "outputs": [],
   "source": [
    "px1[0]"
   ]
  },
  {
   "cell_type": "code",
   "execution_count": null,
   "id": "c7c4dd6b",
   "metadata": {},
   "outputs": [],
   "source": [
    "X1[0]"
   ]
  },
  {
   "cell_type": "code",
   "execution_count": null,
   "id": "159ac014",
   "metadata": {},
   "outputs": [],
   "source": []
  }
 ],
 "metadata": {
  "kernelspec": {
   "display_name": "Python 3 (ipykernel)",
   "language": "python",
   "name": "python3"
  },
  "language_info": {
   "codemirror_mode": {
    "name": "ipython",
    "version": 3
   },
   "file_extension": ".py",
   "mimetype": "text/x-python",
   "name": "python",
   "nbconvert_exporter": "python",
   "pygments_lexer": "ipython3",
   "version": "3.9.16"
  }
 },
 "nbformat": 4,
 "nbformat_minor": 5
}
