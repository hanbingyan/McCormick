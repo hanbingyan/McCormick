{
 "cells": [
  {
   "cell_type": "code",
   "execution_count": 1,
   "id": "5e130e3c",
   "metadata": {},
   "outputs": [],
   "source": [
    "import matplotlib.pyplot as plt\n",
    "import pandas as pd\n",
    "import numpy as np\n",
    "import pickle\n",
    "import time\n",
    "import os\n",
    "import seaborn as sns\n",
    "from datetime import datetime"
   ]
  },
  {
   "cell_type": "code",
   "execution_count": 2,
   "id": "a9ec725c",
   "metadata": {},
   "outputs": [],
   "source": [
    "sns.set_style(\"whitegrid\")"
   ]
  },
  {
   "cell_type": "code",
   "execution_count": 3,
   "id": "374290f2",
   "metadata": {},
   "outputs": [],
   "source": [
    "#### GILD and GSK\n",
    "ticker1 = 'GILD'\n",
    "ticker2= 'GSK'\n",
    "\n",
    "# ticker1 = 'JPM'\n",
    "# ticker2= 'MS'\n",
    "\n",
    "log_dir = './logs/{}_{}_random_digital'.format(ticker1, ticker2)"
   ]
  },
  {
   "cell_type": "code",
   "execution_count": 4,
   "id": "5c9d790e",
   "metadata": {},
   "outputs": [],
   "source": [
    "with open('{}/{}_{}_ratios.pickle'.format(log_dir, ticker1, ticker2), 'rb') as fp:\n",
    "    ratios = pickle.load(fp)"
   ]
  },
  {
   "cell_type": "code",
   "execution_count": 5,
   "id": "2d62de43",
   "metadata": {},
   "outputs": [],
   "source": [
    "with open('{}/{}_{}_Mc_max.pickle'.format(log_dir, ticker1, ticker2), 'rb') as fp:\n",
    "    Mc_max = pickle.load(fp)\n",
    "with open('{}/{}_{}_Mc_min.pickle'.format(log_dir, ticker1, ticker2), 'rb') as fp:\n",
    "    Mc_min = pickle.load(fp)\n",
    "with open('{}/{}_{}_MOT_max.pickle'.format(log_dir, ticker1, ticker2), 'rb') as fp:\n",
    "    MOT_max = pickle.load(fp)\n",
    "with open('{}/{}_{}_MOT_min.pickle'.format(log_dir, ticker1, ticker2), 'rb') as fp:\n",
    "    MOT_min = pickle.load(fp)"
   ]
  },
  {
   "cell_type": "code",
   "execution_count": 6,
   "id": "54b0b5f5-40ea-4bc3-8dfc-db4d1e0ddf2d",
   "metadata": {},
   "outputs": [
    {
     "data": {
      "text/plain": [
       "(100, 50)"
      ]
     },
     "execution_count": 6,
     "metadata": {},
     "output_type": "execute_result"
    }
   ],
   "source": [
    "ratios.shape"
   ]
  },
  {
   "cell_type": "code",
   "execution_count": 7,
   "id": "8744b4a2-0e9a-4ed2-b661-858f967ddf15",
   "metadata": {},
   "outputs": [],
   "source": [
    "ratios = ratios.reshape(-1)"
   ]
  },
  {
   "cell_type": "code",
   "execution_count": 8,
   "id": "1c55b650-14f3-46c5-8c90-44b8faaf6a4b",
   "metadata": {},
   "outputs": [],
   "source": [
    "size = ratios.shape[0]"
   ]
  },
  {
   "cell_type": "code",
   "execution_count": 9,
   "id": "bf990127",
   "metadata": {},
   "outputs": [
    {
     "data": {
      "text/plain": [
       "0.5652"
      ]
     },
     "execution_count": 9,
     "metadata": {},
     "output_type": "execute_result"
    }
   ],
   "source": [
    "(ratios<1).sum()/size"
   ]
  },
  {
   "cell_type": "code",
   "execution_count": 10,
   "id": "409d7037-bdb5-41cc-9473-b9d243180c89",
   "metadata": {},
   "outputs": [
    {
     "data": {
      "text/plain": [
       "0.9999999999999928"
      ]
     },
     "execution_count": 10,
     "metadata": {},
     "output_type": "execute_result"
    }
   ],
   "source": [
    "np.median(ratios)"
   ]
  },
  {
   "cell_type": "code",
   "execution_count": 11,
   "id": "5edb5fef-628d-4ed8-968a-d97b1832ac43",
   "metadata": {},
   "outputs": [
    {
     "data": {
      "text/plain": [
       "0.7982938916492595"
      ]
     },
     "execution_count": 11,
     "metadata": {},
     "output_type": "execute_result"
    }
   ],
   "source": [
    "np.mean(ratios)"
   ]
  },
  {
   "cell_type": "code",
   "execution_count": 12,
   "id": "bb447ab3-bfbd-4062-adf6-a823b0fe915e",
   "metadata": {},
   "outputs": [
    {
     "data": {
      "text/plain": [
       "0.004545454545454547"
      ]
     },
     "execution_count": 12,
     "metadata": {},
     "output_type": "execute_result"
    }
   ],
   "source": [
    "ratios.min()"
   ]
  },
  {
   "cell_type": "code",
   "execution_count": 13,
   "id": "420899bb-464a-44f4-85be-a6e6322403a9",
   "metadata": {},
   "outputs": [],
   "source": [
    "min_idx = np.argmin(ratios)"
   ]
  },
  {
   "cell_type": "code",
   "execution_count": 14,
   "id": "174cb868-74c9-4c41-9199-b3f626eb201b",
   "metadata": {},
   "outputs": [],
   "source": [
    "MOT_max = MOT_max.reshape(-1)\n",
    "MOT_min = MOT_min.reshape(-1)"
   ]
  },
  {
   "cell_type": "code",
   "execution_count": 15,
   "id": "1a535aa0-8302-4aa1-9249-fdf450fd03cf",
   "metadata": {},
   "outputs": [
    {
     "data": {
      "text/plain": [
       "(10.005697413094524, 0.0)"
      ]
     },
     "execution_count": 15,
     "metadata": {},
     "output_type": "execute_result"
    }
   ],
   "source": [
    "MOT_max[min_idx], MOT_min[min_idx]"
   ]
  },
  {
   "cell_type": "code",
   "execution_count": 16,
   "id": "ddd18336-882b-4ba8-b8e8-89a74a73a2db",
   "metadata": {},
   "outputs": [],
   "source": [
    "Mc_max = Mc_max.reshape(-1)\n",
    "Mc_min = Mc_min.reshape(-1)"
   ]
  },
  {
   "cell_type": "code",
   "execution_count": 17,
   "id": "f8e19dd7-4132-49ff-a7d5-888ce84ac596",
   "metadata": {},
   "outputs": [
    {
     "data": {
      "text/plain": [
       "(0.0454804427867933, 0.0)"
      ]
     },
     "execution_count": 17,
     "metadata": {},
     "output_type": "execute_result"
    }
   ],
   "source": [
    "Mc_max[min_idx], Mc_min[min_idx]"
   ]
  },
  {
   "cell_type": "code",
   "execution_count": 18,
   "id": "b6719b47",
   "metadata": {},
   "outputs": [],
   "source": [
    "res = pd.DataFrame({'Ratios': ratios})"
   ]
  },
  {
   "cell_type": "code",
   "execution_count": 19,
   "id": "1f5947b8",
   "metadata": {},
   "outputs": [
    {
     "data": {
      "image/png": "[encoded data removed]",
      "text/plain": [
       "<Figure size 640x400 with 1 Axes>"
      ]
     },
     "metadata": {},
     "output_type": "display_data"
    }
   ],
   "source": [
    "sns.displot(res['Ratios'], stat='probability', color='tab:blue', bins=np.linspace(0.0, 1.0, num=11),\n",
    "            height=4, aspect=1.6) #bins=np.linspace(0.955, 1.0, num=10)\n",
    "plt.xticks(np.linspace(0.0, 1.0, num=11), fontsize=14)\n",
    "plt.yticks(fontsize=14)\n",
    "plt.xlabel('Ratios', fontsize = 14)\n",
    "plt.ylabel('Proportion', fontsize = 14)\n",
    "plt.savefig('./{}_{}_random.pdf'.format(ticker1, ticker2), format='pdf',\n",
    "            dpi=1000, bbox_inches='tight', pad_inches=0.1)\n",
    "# plt.show()"
   ]
  },
  {
   "cell_type": "code",
   "execution_count": null,
   "id": "95f538c8-691a-4074-b3f4-4c65539ff05d",
   "metadata": {},
   "outputs": [],
   "source": []
  }
 ],
 "metadata": {
  "kernelspec": {
   "display_name": "Python 3 (ipykernel)",
   "language": "python",
   "name": "python3"
  },
  "language_info": {
   "codemirror_mode": {
    "name": "ipython",
    "version": 3
   },
   "file_extension": ".py",
   "mimetype": "text/x-python",
   "name": "python",
   "nbconvert_exporter": "python",
   "pygments_lexer": "ipython3",
   "version": "3.12.7"
  }
 },
 "nbformat": 4,
 "nbformat_minor": 5
}
