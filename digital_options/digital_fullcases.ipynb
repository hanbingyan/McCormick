{
 "cells": [
  {
   "cell_type": "code",
   "execution_count": 1,
   "id": "5e130e3c",
   "metadata": {},
   "outputs": [],
   "source": [
    "import matplotlib.pyplot as plt\n",
    "import pandas as pd\n",
    "import numpy as np\n",
    "import pickle\n",
    "import time\n",
    "import os\n",
    "import seaborn as sns\n",
    "from datetime import datetime"
   ]
  },
  {
   "cell_type": "code",
   "execution_count": 2,
   "id": "a9ec725c",
   "metadata": {},
   "outputs": [],
   "source": [
    "sns.set_style(\"whitegrid\")"
   ]
  },
  {
   "cell_type": "code",
   "execution_count": 3,
   "id": "374290f2",
   "metadata": {},
   "outputs": [],
   "source": [
    "#### GILD and GSK\n",
    "# ticker1 = 'GILD'\n",
    "# ticker2= 'GSK'\n",
    "\n",
    "ticker1 = 'JPM'\n",
    "ticker2= 'MS'\n",
    "\n",
    "log_dir = './logs/{}_{}_digital_1month'.format(ticker1, ticker2)"
   ]
  },
  {
   "cell_type": "code",
   "execution_count": 4,
   "id": "c7d2347c-ba7a-43be-a3f7-79b51dd8f673",
   "metadata": {},
   "outputs": [],
   "source": [
    "# '2022-02-28'\n",
    "# '2022-05-24'\n",
    "# '2022-08-25'\n",
    "date = '2022-05-24'"
   ]
  },
  {
   "cell_type": "code",
   "execution_count": 5,
   "id": "5c9d790e",
   "metadata": {},
   "outputs": [],
   "source": [
    "with open('{}/{}_{}_{}_ratios.pickle'.format(log_dir, ticker1, ticker2, date), 'rb') as fp:\n",
    "    ratios = pickle.load(fp)"
   ]
  },
  {
   "cell_type": "code",
   "execution_count": 6,
   "id": "2d62de43",
   "metadata": {},
   "outputs": [],
   "source": [
    "with open('{}/{}_{}_{}_Mc_max.pickle'.format(log_dir, ticker1, ticker2, date), 'rb') as fp:\n",
    "    Mc_max = pickle.load(fp)\n",
    "with open('{}/{}_{}_{}_Mc_min.pickle'.format(log_dir, ticker1, ticker2, date), 'rb') as fp:\n",
    "    Mc_min = pickle.load(fp)\n",
    "with open('{}/{}_{}_{}_MOT_max.pickle'.format(log_dir, ticker1, ticker2, date), 'rb') as fp:\n",
    "    MOT_max = pickle.load(fp)\n",
    "with open('{}/{}_{}_{}_MOT_min.pickle'.format(log_dir, ticker1, ticker2, date), 'rb') as fp:\n",
    "    MOT_min = pickle.load(fp)"
   ]
  },
  {
   "cell_type": "code",
   "execution_count": 7,
   "id": "7f404fee",
   "metadata": {},
   "outputs": [],
   "source": [
    "with open('{}/{}_{}_{}_X1.pickle'.format(log_dir, ticker1, ticker2, date), 'rb') as fp:\n",
    "    X1 = pickle.load(fp)\n",
    "with open('{}/{}_{}_{}_X2.pickle'.format(log_dir, ticker1, ticker2, date), 'rb') as fp:\n",
    "    X2 = pickle.load(fp)\n",
    "with open('{}/{}_{}_{}_Y1.pickle'.format(log_dir, ticker1, ticker2, date), 'rb') as fp:\n",
    "    Y1 = pickle.load(fp)\n",
    "with open('{}/{}_{}_{}_Y2.pickle'.format(log_dir, ticker1, ticker2, date), 'rb') as fp:\n",
    "    Y2 = pickle.load(fp)"
   ]
  },
  {
   "cell_type": "code",
   "execution_count": 8,
   "id": "3ddbde89-e551-4ca8-bf05-0967799f7446",
   "metadata": {},
   "outputs": [
    {
     "data": {
      "text/plain": [
       "(11, 12, 8, 9)"
      ]
     },
     "execution_count": 8,
     "metadata": {},
     "output_type": "execute_result"
    }
   ],
   "source": [
    "X1.shape[0], X2.shape[0], Y1.shape[0], Y2.shape[0]"
   ]
  },
  {
   "cell_type": "code",
   "execution_count": 9,
   "id": "2a4e2b24-2a8c-446b-bb9b-081e88db19f9",
   "metadata": {},
   "outputs": [
    {
     "data": {
      "text/plain": [
       "9504"
      ]
     },
     "execution_count": 9,
     "metadata": {},
     "output_type": "execute_result"
    }
   ],
   "source": [
    "size = X1.shape[0]*X2.shape[0]*Y1.shape[0]*Y2.shape[0]\n",
    "size"
   ]
  },
  {
   "cell_type": "code",
   "execution_count": 10,
   "id": "bf990127",
   "metadata": {},
   "outputs": [
    {
     "data": {
      "text/plain": [
       "0.7494739057239057"
      ]
     },
     "execution_count": 10,
     "metadata": {},
     "output_type": "execute_result"
    }
   ],
   "source": [
    "(ratios<1).sum()/size"
   ]
  },
  {
   "cell_type": "code",
   "execution_count": 11,
   "id": "409d7037-bdb5-41cc-9473-b9d243180c89",
   "metadata": {},
   "outputs": [
    {
     "data": {
      "text/plain": [
       "0.9118017513439736"
      ]
     },
     "execution_count": 11,
     "metadata": {},
     "output_type": "execute_result"
    }
   ],
   "source": [
    "np.median(ratios)"
   ]
  },
  {
   "cell_type": "code",
   "execution_count": 12,
   "id": "5edb5fef-628d-4ed8-968a-d97b1832ac43",
   "metadata": {},
   "outputs": [
    {
     "data": {
      "text/plain": [
       "0.7536114966264617"
      ]
     },
     "execution_count": 12,
     "metadata": {},
     "output_type": "execute_result"
    }
   ],
   "source": [
    "np.mean(ratios)"
   ]
  },
  {
   "cell_type": "code",
   "execution_count": 13,
   "id": "bb447ab3-bfbd-4062-adf6-a823b0fe915e",
   "metadata": {},
   "outputs": [
    {
     "data": {
      "text/plain": [
       "0.015786761915930682"
      ]
     },
     "execution_count": 13,
     "metadata": {},
     "output_type": "execute_result"
    }
   ],
   "source": [
    "ratios.min()"
   ]
  },
  {
   "cell_type": "code",
   "execution_count": 14,
   "id": "420899bb-464a-44f4-85be-a6e6322403a9",
   "metadata": {},
   "outputs": [],
   "source": [
    "min_idx = np.argmin(ratios)"
   ]
  },
  {
   "cell_type": "code",
   "execution_count": 15,
   "id": "1a535aa0-8302-4aa1-9249-fdf450fd03cf",
   "metadata": {},
   "outputs": [
    {
     "data": {
      "text/plain": [
       "(22.045450295519533, 0.0)"
      ]
     },
     "execution_count": 15,
     "metadata": {},
     "output_type": "execute_result"
    }
   ],
   "source": [
    "MOT_max[min_idx], MOT_min[min_idx]"
   ]
  },
  {
   "cell_type": "code",
   "execution_count": 16,
   "id": "f8e19dd7-4132-49ff-a7d5-888ce84ac596",
   "metadata": {},
   "outputs": [
    {
     "data": {
      "text/plain": [
       "(0.34802627514485057, 0.0)"
      ]
     },
     "execution_count": 16,
     "metadata": {},
     "output_type": "execute_result"
    }
   ],
   "source": [
    "Mc_max[min_idx], Mc_min[min_idx]"
   ]
  },
  {
   "cell_type": "code",
   "execution_count": null,
   "id": "b6719b47",
   "metadata": {},
   "outputs": [],
   "source": [
    "res = pd.DataFrame({'Ratios': ratios})"
   ]
  },
  {
   "cell_type": "code",
   "execution_count": null,
   "id": "1f5947b8",
   "metadata": {},
   "outputs": [],
   "source": [
    "sns.displot(res['Ratios'], stat='probability', color='tab:blue', bins=np.linspace(0.0, 1.0, num=11),\n",
    "            height=4, aspect=1.6) #bins=np.linspace(0.955, 1.0, num=10)\n",
    "plt.xticks(np.linspace(0.0, 1.0, num=11), fontsize=14)\n",
    "plt.yticks(fontsize=14)\n",
    "plt.xlabel('Ratios', fontsize = 14)\n",
    "plt.ylabel('Proportion', fontsize = 14)\n",
    "plt.savefig('./{}_{}_Aug25.pdf'.format(ticker1, ticker2), format='pdf',\n",
    "            dpi=1000, bbox_inches='tight', pad_inches=0.1)\n",
    "# plt.show()"
   ]
  },
  {
   "cell_type": "code",
   "execution_count": null,
   "id": "159ac014",
   "metadata": {},
   "outputs": [],
   "source": []
  }
 ],
 "metadata": {
  "kernelspec": {
   "display_name": "Python 3 (ipykernel)",
   "language": "python",
   "name": "python3"
  },
  "language_info": {
   "codemirror_mode": {
    "name": "ipython",
    "version": 3
   },
   "file_extension": ".py",
   "mimetype": "text/x-python",
   "name": "python",
   "nbconvert_exporter": "python",
   "pygments_lexer": "ipython3",
   "version": "3.12.7"
  }
 },
 "nbformat": 4,
 "nbformat_minor": 5
}
