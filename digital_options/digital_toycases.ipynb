{
 "cells": [
  {
   "cell_type": "code",
   "execution_count": 1,
   "id": "5e130e3c",
   "metadata": {},
   "outputs": [],
   "source": [
    "import matplotlib.pyplot as plt\n",
    "import pandas as pd\n",
    "import numpy as np\n",
    "import pickle\n",
    "import time\n",
    "import os\n",
    "import seaborn as sns\n",
    "from datetime import datetime"
   ]
  },
  {
   "cell_type": "code",
   "execution_count": 2,
   "id": "a9ec725c",
   "metadata": {},
   "outputs": [],
   "source": [
    "sns.set_style(\"whitegrid\")"
   ]
  },
  {
   "cell_type": "code",
   "execution_count": 3,
   "id": "374290f2",
   "metadata": {},
   "outputs": [],
   "source": [
    "log_dir = './logs/toy_digital'"
   ]
  },
  {
   "cell_type": "code",
   "execution_count": 4,
   "id": "5c9d790e",
   "metadata": {},
   "outputs": [],
   "source": [
    "with open('{}/ratios.pickle'.format(log_dir), 'rb') as fp:\n",
    "    ratios = pickle.load(fp)"
   ]
  },
  {
   "cell_type": "code",
   "execution_count": 5,
   "id": "2d62de43",
   "metadata": {},
   "outputs": [],
   "source": [
    "with open('{}/Mc_max.pickle'.format(log_dir), 'rb') as fp:\n",
    "    Mc_max = pickle.load(fp)\n",
    "with open('{}/Mc_min.pickle'.format(log_dir), 'rb') as fp:\n",
    "    Mc_min = pickle.load(fp)\n",
    "with open('{}/MOT_max.pickle'.format(log_dir), 'rb') as fp:\n",
    "    MOT_max = pickle.load(fp)\n",
    "with open('{}/MOT_min.pickle'.format(log_dir), 'rb') as fp:\n",
    "    MOT_min = pickle.load(fp)"
   ]
  },
  {
   "cell_type": "code",
   "execution_count": 6,
   "id": "72f820f3-30aa-4eb9-9d7a-b5ba77ca8867",
   "metadata": {},
   "outputs": [],
   "source": [
    "with open('{}/BCOT_max.pickle'.format(log_dir), 'rb') as fp:\n",
    "    BCOT_max = pickle.load(fp)\n",
    "with open('{}/BCOT_min.pickle'.format(log_dir), 'rb') as fp:\n",
    "    BCOT_min = pickle.load(fp)"
   ]
  },
  {
   "cell_type": "code",
   "execution_count": 7,
   "id": "74377499-8d85-4a5e-a5ad-bdfc8f90b19e",
   "metadata": {},
   "outputs": [],
   "source": [
    "with open('{}/BCOT_ratios.pickle'.format(log_dir), 'rb') as fp:\n",
    "    BCOT_ratios = pickle.load(fp)"
   ]
  },
  {
   "cell_type": "code",
   "execution_count": 8,
   "id": "fc336403-f941-49cb-a243-68f2b39898c1",
   "metadata": {},
   "outputs": [
    {
     "data": {
      "text/plain": [
       "array([ 0.00000000e+00,  0.00000000e+00,  0.00000000e+00,  0.00000000e+00,\n",
       "        0.00000000e+00,  0.00000000e+00,  0.00000000e+00,  0.00000000e+00,\n",
       "        0.00000000e+00,  0.00000000e+00,  0.00000000e+00,  0.00000000e+00,\n",
       "        0.00000000e+00,  0.00000000e+00,  0.00000000e+00,  0.00000000e+00,\n",
       "        0.00000000e+00,  0.00000000e+00,  0.00000000e+00,  0.00000000e+00,\n",
       "        0.00000000e+00,  0.00000000e+00,  0.00000000e+00,  0.00000000e+00,\n",
       "        0.00000000e+00,  0.00000000e+00,  0.00000000e+00, -6.14092110e-16,\n",
       "        0.00000000e+00,  0.00000000e+00,  0.00000000e+00, -3.53883589e-16,\n",
       "        0.00000000e+00,  0.00000000e+00,  0.00000000e+00, -1.84574578e-15,\n",
       "       -1.13797860e-15,  0.00000000e+00,  0.00000000e+00,  0.00000000e+00,\n",
       "        8.32667268e-16,  0.00000000e+00,  0.00000000e+00,  0.00000000e+00,\n",
       "       -5.96744876e-14, -6.14092110e-16,  0.00000000e+00,  0.00000000e+00,\n",
       "        0.00000000e+00, -4.85722573e-17,  0.00000000e+00,  0.00000000e+00,\n",
       "        0.00000000e+00, -1.84574578e-15,  0.00000000e+00,  0.00000000e+00,\n",
       "        0.00000000e+00,  0.00000000e+00,  0.00000000e+00,  0.00000000e+00,\n",
       "        0.00000000e+00,  0.00000000e+00,  0.00000000e+00,  0.00000000e+00,\n",
       "        0.00000000e+00,  0.00000000e+00,  0.00000000e+00,  0.00000000e+00,\n",
       "        0.00000000e+00,  0.00000000e+00,  0.00000000e+00,  0.00000000e+00,\n",
       "        0.00000000e+00,  0.00000000e+00,  0.00000000e+00,  0.00000000e+00,\n",
       "        0.00000000e+00,  0.00000000e+00,  0.00000000e+00,  0.00000000e+00,\n",
       "        0.00000000e+00])"
      ]
     },
     "execution_count": 8,
     "metadata": {},
     "output_type": "execute_result"
    }
   ],
   "source": [
    "BCOT_ratios - ratios"
   ]
  },
  {
   "cell_type": "code",
   "execution_count": 9,
   "id": "54b0b5f5-40ea-4bc3-8dfc-db4d1e0ddf2d",
   "metadata": {},
   "outputs": [
    {
     "data": {
      "text/plain": [
       "(81,)"
      ]
     },
     "execution_count": 9,
     "metadata": {},
     "output_type": "execute_result"
    }
   ],
   "source": [
    "ratios.shape"
   ]
  },
  {
   "cell_type": "code",
   "execution_count": 10,
   "id": "1c55b650-14f3-46c5-8c90-44b8faaf6a4b",
   "metadata": {},
   "outputs": [],
   "source": [
    "size = ratios.shape[0]"
   ]
  },
  {
   "cell_type": "code",
   "execution_count": 11,
   "id": "8db4f955-b6fa-48ec-addf-89a8c76a92bf",
   "metadata": {},
   "outputs": [
    {
     "data": {
      "text/plain": [
       "9"
      ]
     },
     "execution_count": 11,
     "metadata": {},
     "output_type": "execute_result"
    }
   ],
   "source": [
    "(ratios<1).sum()"
   ]
  },
  {
   "cell_type": "code",
   "execution_count": 12,
   "id": "bf990127",
   "metadata": {},
   "outputs": [
    {
     "data": {
      "text/plain": [
       "0.1111111111111111"
      ]
     },
     "execution_count": 12,
     "metadata": {},
     "output_type": "execute_result"
    }
   ],
   "source": [
    "(ratios<1).sum()/size"
   ]
  },
  {
   "cell_type": "code",
   "execution_count": 13,
   "id": "4f09ba9c-6a02-4243-83ce-f203d20a0571",
   "metadata": {},
   "outputs": [
    {
     "data": {
      "text/plain": [
       "array([1.        , 1.        , 1.        , 1.        , 1.        ,\n",
       "       1.        , 1.        , 1.        , 1.        , 1.        ,\n",
       "       1.        , 1.        , 1.        , 1.        , 1.        ,\n",
       "       1.        , 1.        , 1.        , 1.        , 1.        ,\n",
       "       1.        , 1.        , 1.        , 1.        , 1.        ,\n",
       "       1.        , 1.        , 0.02040816, 1.        , 1.        ,\n",
       "       1.        , 0.02040816, 1.        , 1.        , 1.        ,\n",
       "       0.02040816, 0.23469388, 1.        , 1.        , 1.        ,\n",
       "       0.23469388, 1.        , 1.        , 1.        , 0.23469388,\n",
       "       0.02040816, 1.        , 1.        , 1.        , 0.02040816,\n",
       "       1.        , 1.        , 1.        , 0.02040816, 1.        ,\n",
       "       1.        , 1.        , 1.        , 1.        , 1.        ,\n",
       "       1.        , 1.        , 1.        , 1.        , 1.        ,\n",
       "       1.        , 1.        , 1.        , 1.        , 1.        ,\n",
       "       1.        , 1.        , 1.        , 1.        , 1.        ,\n",
       "       1.        , 1.        , 1.        , 1.        , 1.        ,\n",
       "       1.        ])"
      ]
     },
     "execution_count": 13,
     "metadata": {},
     "output_type": "execute_result"
    }
   ],
   "source": [
    "ratios"
   ]
  },
  {
   "cell_type": "code",
   "execution_count": 14,
   "id": "409d7037-bdb5-41cc-9473-b9d243180c89",
   "metadata": {},
   "outputs": [
    {
     "data": {
      "text/plain": [
       "1.0"
      ]
     },
     "execution_count": 14,
     "metadata": {},
     "output_type": "execute_result"
    }
   ],
   "source": [
    "np.median(ratios)"
   ]
  },
  {
   "cell_type": "code",
   "execution_count": 15,
   "id": "5edb5fef-628d-4ed8-968a-d97b1832ac43",
   "metadata": {},
   "outputs": [
    {
     "data": {
      "text/plain": [
       "0.8990929705215421"
      ]
     },
     "execution_count": 15,
     "metadata": {},
     "output_type": "execute_result"
    }
   ],
   "source": [
    "np.mean(ratios)"
   ]
  },
  {
   "cell_type": "code",
   "execution_count": 16,
   "id": "bb447ab3-bfbd-4062-adf6-a823b0fe915e",
   "metadata": {},
   "outputs": [
    {
     "data": {
      "text/plain": [
       "0.020408163265306315"
      ]
     },
     "execution_count": 16,
     "metadata": {},
     "output_type": "execute_result"
    }
   ],
   "source": [
    "ratios.min()"
   ]
  },
  {
   "cell_type": "code",
   "execution_count": 17,
   "id": "420899bb-464a-44f4-85be-a6e6322403a9",
   "metadata": {},
   "outputs": [],
   "source": [
    "min_idx = np.argmin(ratios)"
   ]
  },
  {
   "cell_type": "code",
   "execution_count": 18,
   "id": "254862e3-ac60-40a2-9cb5-12963c63c2e0",
   "metadata": {},
   "outputs": [
    {
     "data": {
      "text/plain": [
       "49"
      ]
     },
     "execution_count": 18,
     "metadata": {},
     "output_type": "execute_result"
    }
   ],
   "source": [
    "min_idx"
   ]
  },
  {
   "cell_type": "code",
   "execution_count": 19,
   "id": "57f0ab20-5c93-4d97-b143-eb822352b847",
   "metadata": {},
   "outputs": [],
   "source": [
    "cost = np.zeros(81)\n",
    "cost[49] = 10000.0\n",
    "cost = cost.reshape((3, 3, 3, 3))"
   ]
  },
  {
   "cell_type": "code",
   "execution_count": 20,
   "id": "948d6863-981f-4054-8230-0753f70c3eab",
   "metadata": {},
   "outputs": [
    {
     "data": {
      "text/plain": [
       "(array([1], dtype=int64),\n",
       " array([2], dtype=int64),\n",
       " array([1], dtype=int64),\n",
       " array([1], dtype=int64))"
      ]
     },
     "execution_count": 20,
     "metadata": {},
     "output_type": "execute_result"
    }
   ],
   "source": [
    "np.where(cost>0)"
   ]
  },
  {
   "cell_type": "code",
   "execution_count": 21,
   "id": "174cb868-74c9-4c41-9199-b3f626eb201b",
   "metadata": {},
   "outputs": [],
   "source": [
    "# MOT_max = MOT_max.reshape(-1)\n",
    "# MOT_min = MOT_min.reshape(-1)"
   ]
  },
  {
   "cell_type": "code",
   "execution_count": 22,
   "id": "1a535aa0-8302-4aa1-9249-fdf450fd03cf",
   "metadata": {},
   "outputs": [
    {
     "data": {
      "text/plain": [
       "(300.0, 0.0)"
      ]
     },
     "execution_count": 22,
     "metadata": {},
     "output_type": "execute_result"
    }
   ],
   "source": [
    "MOT_max[min_idx], MOT_min[min_idx]"
   ]
  },
  {
   "cell_type": "code",
   "execution_count": 23,
   "id": "ddd18336-882b-4ba8-b8e8-89a74a73a2db",
   "metadata": {},
   "outputs": [],
   "source": [
    "# Mc_max = Mc_max.reshape(-1)\n",
    "# Mc_min = Mc_min.reshape(-1)"
   ]
  },
  {
   "cell_type": "code",
   "execution_count": 24,
   "id": "f8e19dd7-4132-49ff-a7d5-888ce84ac596",
   "metadata": {},
   "outputs": [
    {
     "data": {
      "text/plain": [
       "(61.224489795918366, 55.10204081632647)"
      ]
     },
     "execution_count": 24,
     "metadata": {},
     "output_type": "execute_result"
    }
   ],
   "source": [
    "Mc_max[min_idx], Mc_min[min_idx]"
   ]
  },
  {
   "cell_type": "code",
   "execution_count": 25,
   "id": "b6719b47",
   "metadata": {},
   "outputs": [],
   "source": [
    "res = pd.DataFrame({'Ratios': ratios})"
   ]
  },
  {
   "cell_type": "code",
   "execution_count": 26,
   "id": "1f5947b8",
   "metadata": {},
   "outputs": [
    {
     "data": {
      "image/png": "[encoded data removed]",
      "text/plain": [
       "<Figure size 640x400 with 1 Axes>"
      ]
     },
     "metadata": {},
     "output_type": "display_data"
    }
   ],
   "source": [
    "sns.displot(res['Ratios'], stat='probability', color='tab:blue', bins=np.linspace(0.0, 1.0, num=11),\n",
    "            height=4, aspect=1.6) #bins=np.linspace(0.955, 1.0, num=10)\n",
    "plt.xticks(np.linspace(0.0, 1.0, num=11), fontsize=14)\n",
    "plt.yticks(fontsize=14)\n",
    "plt.xlabel('Ratios', fontsize = 14)\n",
    "plt.ylabel('Proportion', fontsize = 14)\n",
    "# plt.savefig('{}/{}_{}.pdf'.format(log_dir, ticker1, ticker2), format='pdf',\n",
    "#             dpi=1000, bbox_inches='tight', pad_inches=0.1)\n",
    "plt.show()"
   ]
  },
  {
   "cell_type": "code",
   "execution_count": null,
   "id": "95f538c8-691a-4074-b3f4-4c65539ff05d",
   "metadata": {},
   "outputs": [],
   "source": []
  }
 ],
 "metadata": {
  "kernelspec": {
   "display_name": "Python 3 (ipykernel)",
   "language": "python",
   "name": "python3"
  },
  "language_info": {
   "codemirror_mode": {
    "name": "ipython",
    "version": 3
   },
   "file_extension": ".py",
   "mimetype": "text/x-python",
   "name": "python",
   "nbconvert_exporter": "python",
   "pygments_lexer": "ipython3",
   "version": "3.12.7"
  }
 },
 "nbformat": 4,
 "nbformat_minor": 5
}
