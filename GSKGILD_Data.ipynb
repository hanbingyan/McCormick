{
 "cells": [
  {
   "cell_type": "code",
   "execution_count": 1,
   "id": "b44531e6",
   "metadata": {},
   "outputs": [],
   "source": [
    "import datetime"
   ]
  },
  {
   "cell_type": "code",
   "execution_count": 2,
   "id": "664a8778",
   "metadata": {},
   "outputs": [],
   "source": [
    "import pandas as pd\n",
    "import numpy as np\n",
    "import matplotlib.pyplot as plt\n",
    "from scipy.interpolate import UnivariateSpline, interp1d, BPoly, PPoly, CubicSpline"
   ]
  },
  {
   "cell_type": "code",
   "execution_count": 3,
   "id": "2e02cf1b",
   "metadata": {},
   "outputs": [
    {
     "name": "stderr",
     "output_type": "stream",
     "text": [
      "C:\\Users\\Sakura\\AppData\\Local\\Temp\\ipykernel_15420\\2000232997.py:2: DtypeWarning: Columns (26,32) have mixed types. Specify dtype option on import or set low_memory=False.\n",
      "  option = pd.read_csv(o_path)\n"
     ]
    }
   ],
   "source": [
    "o_path = './data/2022_option_GSKGILD.csv'\n",
    "option = pd.read_csv(o_path)"
   ]
  },
  {
   "cell_type": "code",
   "execution_count": 4,
   "id": "70e344ee",
   "metadata": {},
   "outputs": [
    {
     "data": {
      "text/plain": [
       "(360412, 38)"
      ]
     },
     "execution_count": 4,
     "metadata": {},
     "output_type": "execute_result"
    }
   ],
   "source": [
    "option.shape"
   ]
  },
  {
   "cell_type": "code",
   "execution_count": 5,
   "id": "85b1b6be",
   "metadata": {},
   "outputs": [
    {
     "data": {
      "text/plain": [
       "360412"
      ]
     },
     "execution_count": 5,
     "metadata": {},
     "output_type": "execute_result"
    }
   ],
   "source": [
    "len(option)"
   ]
  },
  {
   "cell_type": "code",
   "execution_count": 6,
   "id": "dd59ee06",
   "metadata": {},
   "outputs": [
    {
     "data": {
      "text/plain": [
       "(array([0], dtype=int64), array([360412], dtype=int64))"
      ]
     },
     "execution_count": 6,
     "metadata": {},
     "output_type": "execute_result"
    }
   ],
   "source": [
    "# AMSettlement\n",
    "# 0 options on the security expire at the market close of the last trading day\n",
    "# 1 – options on the security expire at the market open of the last trading day\n",
    "# In other words, if an option is AM settled, as most cashsettled index option classes are, we use one less day than\n",
    "# we use for PM-settled options to count days to expiration.\n",
    "np.unique(option['am_settlement'], return_counts=True)"
   ]
  },
  {
   "cell_type": "code",
   "execution_count": 7,
   "id": "37a3ce20",
   "metadata": {},
   "outputs": [],
   "source": [
    "call = option[option['cp_flag'] == 'C']\n",
    "call = call[~call['impl_volatility'].isna()]\n",
    "call = call[~call['last_date'].isna()]\n",
    "call = call[call['am_settlement'] == 0]\n",
    "call = call[['symbol', 'ticker', 'date', 'exdate', 'last_date', 'cp_flag', 'strike_price', 'best_bid', \n",
    "             'best_offer', 'volume', 'open_interest', 'impl_volatility', 'am_settlement', \n",
    "             'contract_size']]\n",
    "# WRDS times stikes with 1000\n",
    "call.loc[:, 'strike_price'] /= 1000\n",
    "call.loc[:, 'mid_price'] = (call['best_bid'] + call['best_offer'])/2\n",
    "call = call[call['open_interest'] > 0]\n",
    "call = call.reset_index(drop=True)\n",
    "df_len = call.shape[0]\n",
    "for k in range(df_len):\n",
    "    call.loc[k, 'maturity'] = (datetime.datetime.strptime(call.loc[k, 'exdate'], \"%Y-%m-%d\") -\n",
    "                               datetime.datetime.strptime(call.loc[k, 'date'], \"%Y-%m-%d\")).days"
   ]
  },
  {
   "cell_type": "code",
   "execution_count": 8,
   "id": "1b02e97d",
   "metadata": {
    "scrolled": false
   },
   "outputs": [
    {
     "name": "stdout",
     "output_type": "stream",
     "text": [
      "<class 'pandas.core.frame.DataFrame'>\n",
      "RangeIndex: 93655 entries, 0 to 93654\n",
      "Data columns (total 16 columns):\n",
      " #   Column           Non-Null Count  Dtype  \n",
      "---  ------           --------------  -----  \n",
      " 0   symbol           93655 non-null  object \n",
      " 1   ticker           93655 non-null  object \n",
      " 2   date             93655 non-null  object \n",
      " 3   exdate           93655 non-null  object \n",
      " 4   last_date        93655 non-null  object \n",
      " 5   cp_flag          93655 non-null  object \n",
      " 6   strike_price     93655 non-null  float64\n",
      " 7   best_bid         93655 non-null  float64\n",
      " 8   best_offer       93655 non-null  float64\n",
      " 9   volume           93655 non-null  int64  \n",
      " 10  open_interest    93655 non-null  int64  \n",
      " 11  impl_volatility  93655 non-null  float64\n",
      " 12  am_settlement    93655 non-null  int64  \n",
      " 13  contract_size    93655 non-null  int64  \n",
      " 14  mid_price        93655 non-null  float64\n",
      " 15  maturity         93655 non-null  float64\n",
      "dtypes: float64(6), int64(4), object(6)\n",
      "memory usage: 11.4+ MB\n"
     ]
    }
   ],
   "source": [
    "call.info()"
   ]
  },
  {
   "cell_type": "code",
   "execution_count": 9,
   "id": "546e7b09",
   "metadata": {},
   "outputs": [],
   "source": [
    "zero_cou = pd.read_csv('./data/2022_zeros.csv')\n",
    "forward = pd.read_csv('./data/2022_forward_GSKGILD.csv')"
   ]
  },
  {
   "cell_type": "code",
   "execution_count": 10,
   "id": "5e376e7b",
   "metadata": {},
   "outputs": [],
   "source": [
    "max_days = call['maturity'].max() + 1.0\n",
    "date = zero_cou['date'].unique()\n",
    "date_len = date.shape[0]"
   ]
  },
  {
   "cell_type": "code",
   "execution_count": 11,
   "id": "9ed829aa",
   "metadata": {},
   "outputs": [
    {
     "data": {
      "text/plain": [
       "500.0"
      ]
     },
     "execution_count": 11,
     "metadata": {},
     "output_type": "execute_result"
    }
   ],
   "source": [
    "max_days"
   ]
  },
  {
   "cell_type": "code",
   "execution_count": 12,
   "id": "62a2b3bc",
   "metadata": {},
   "outputs": [],
   "source": [
    "interest_df = pd.DataFrame()\n",
    "for i in range(date_len):\n",
    "    x = zero_cou[zero_cou['date'] == date[i]]['days'].values\n",
    "    y = zero_cou[zero_cou['date'] == date[i]]['rate'].values\n",
    "    f = interp1d(x, y, fill_value=(y.min(), y.max()), bounds_error=False)\n",
    "#     days_arr = np.arange(x.min(), max_days, 1.0)\n",
    "    days_arr = np.arange(max_days)\n",
    "    rate_arr = f(days_arr)\n",
    "    df = pd.DataFrame({'days': days_arr, 'rate': rate_arr})\n",
    "#     short_days = np.arange(0.0, x.min(), 1.0)\n",
    "#     short_rate = zero_cou[(zero_cou['date'] == date[i]) & (zero_cou['days'] == x.min())]['rate'].values\n",
    "#     short_df = pd.DataFrame({'days': short_days, 'rate': short_rate*np.ones_like(short_days)})\n",
    "#     df = pd.concat([short_df, df], ignore_index=True)\n",
    "    df.loc[:, 'date'] = date[i]\n",
    "    interest_df = pd.concat([interest_df, df], ignore_index=True)"
   ]
  },
  {
   "cell_type": "code",
   "execution_count": 13,
   "id": "79456544",
   "metadata": {},
   "outputs": [],
   "source": [
    "for i in range(call.shape[0]):\n",
    "    cur_day = call.iloc[i]['date']\n",
    "    maturity = call.iloc[i]['maturity']\n",
    "    rate = interest_df[(interest_df['days']==maturity) & (interest_df['date']==cur_day)]['rate'].values\n",
    "    call.loc[i, 'rf_rate'] = rate"
   ]
  },
  {
   "cell_type": "code",
   "execution_count": 14,
   "id": "8f3fe402",
   "metadata": {},
   "outputs": [
    {
     "data": {
      "text/plain": [
       "array([0], dtype=int64)"
      ]
     },
     "execution_count": 14,
     "metadata": {},
     "output_type": "execute_result"
    }
   ],
   "source": [
    "forward['AMSettlement'].unique()"
   ]
  },
  {
   "cell_type": "code",
   "execution_count": 15,
   "id": "a4c5aa81",
   "metadata": {},
   "outputs": [
    {
     "data": {
      "text/plain": [
       "(array(['GILD', 'GSK'], dtype=object), array(['GILD', 'GSK'], dtype=object))"
      ]
     },
     "execution_count": 15,
     "metadata": {},
     "output_type": "execute_result"
    }
   ],
   "source": [
    "option['ticker'].unique(), forward['ticker'].unique()"
   ]
  },
  {
   "cell_type": "code",
   "execution_count": 16,
   "id": "8f9ee947",
   "metadata": {
    "scrolled": false
   },
   "outputs": [],
   "source": [
    "for name in ['GILD', 'GSK']:\n",
    "    for i in range(date.shape[0]):\n",
    "        f_date = forward[(forward['date']==date[i]) & (forward['ticker'] == name)]['expiration'].unique()\n",
    "        opt_date = call[(call['date']==date[i]) & (call['ticker'] == name)]['exdate'].unique()\n",
    "        if not set(opt_date).issubset(opt_date):\n",
    "            print('There are dates when option is expired but no forward price info.')"
   ]
  },
  {
   "cell_type": "code",
   "execution_count": 17,
   "id": "4529ec5a",
   "metadata": {},
   "outputs": [],
   "source": [
    "for i in range(call.shape[0]):\n",
    "    name = call.iloc[i]['ticker']\n",
    "    cur_day = call.iloc[i]['date']\n",
    "    maturity = call.iloc[i]['exdate']\n",
    "    am_set = call.iloc[i]['am_settlement']\n",
    "    fwd_price = forward[(forward['date'] == cur_day) & (forward['expiration'] == maturity) & \n",
    "                        (forward['ticker'] == name)]['ForwardPrice'].values\n",
    "    call.loc[i, 'forward'] = fwd_price"
   ]
  },
  {
   "cell_type": "code",
   "execution_count": 18,
   "id": "406172cb",
   "metadata": {},
   "outputs": [],
   "source": [
    "GILD = call[call['ticker'] == 'GILD']\n",
    "GSK = call[call['ticker'] == 'GSK']"
   ]
  },
  {
   "cell_type": "code",
   "execution_count": 19,
   "id": "902b2fa7",
   "metadata": {},
   "outputs": [
    {
     "name": "stdout",
     "output_type": "stream",
     "text": [
      "<class 'pandas.core.frame.DataFrame'>\n",
      "Int64Index: 56206 entries, 0 to 87272\n",
      "Data columns (total 18 columns):\n",
      " #   Column           Non-Null Count  Dtype  \n",
      "---  ------           --------------  -----  \n",
      " 0   symbol           56206 non-null  object \n",
      " 1   ticker           56206 non-null  object \n",
      " 2   date             56206 non-null  object \n",
      " 3   exdate           56206 non-null  object \n",
      " 4   last_date        56206 non-null  object \n",
      " 5   cp_flag          56206 non-null  object \n",
      " 6   strike_price     56206 non-null  float64\n",
      " 7   best_bid         56206 non-null  float64\n",
      " 8   best_offer       56206 non-null  float64\n",
      " 9   volume           56206 non-null  int64  \n",
      " 10  open_interest    56206 non-null  int64  \n",
      " 11  impl_volatility  56206 non-null  float64\n",
      " 12  am_settlement    56206 non-null  int64  \n",
      " 13  contract_size    56206 non-null  int64  \n",
      " 14  mid_price        56206 non-null  float64\n",
      " 15  maturity         56206 non-null  float64\n",
      " 16  rf_rate          56206 non-null  float64\n",
      " 17  forward          56206 non-null  float64\n",
      "dtypes: float64(8), int64(4), object(6)\n",
      "memory usage: 8.1+ MB\n"
     ]
    }
   ],
   "source": [
    "GILD.info()"
   ]
  },
  {
   "cell_type": "code",
   "execution_count": 20,
   "id": "64e7041f",
   "metadata": {},
   "outputs": [
    {
     "name": "stdout",
     "output_type": "stream",
     "text": [
      "<class 'pandas.core.frame.DataFrame'>\n",
      "Int64Index: 37449 entries, 46693 to 93654\n",
      "Data columns (total 18 columns):\n",
      " #   Column           Non-Null Count  Dtype  \n",
      "---  ------           --------------  -----  \n",
      " 0   symbol           37449 non-null  object \n",
      " 1   ticker           37449 non-null  object \n",
      " 2   date             37449 non-null  object \n",
      " 3   exdate           37449 non-null  object \n",
      " 4   last_date        37449 non-null  object \n",
      " 5   cp_flag          37449 non-null  object \n",
      " 6   strike_price     37449 non-null  float64\n",
      " 7   best_bid         37449 non-null  float64\n",
      " 8   best_offer       37449 non-null  float64\n",
      " 9   volume           37449 non-null  int64  \n",
      " 10  open_interest    37449 non-null  int64  \n",
      " 11  impl_volatility  37449 non-null  float64\n",
      " 12  am_settlement    37449 non-null  int64  \n",
      " 13  contract_size    37449 non-null  int64  \n",
      " 14  mid_price        37449 non-null  float64\n",
      " 15  maturity         37449 non-null  float64\n",
      " 16  rf_rate          37449 non-null  float64\n",
      " 17  forward          37449 non-null  float64\n",
      "dtypes: float64(8), int64(4), object(6)\n",
      "memory usage: 5.4+ MB\n"
     ]
    }
   ],
   "source": [
    "GSK.info()"
   ]
  },
  {
   "cell_type": "code",
   "execution_count": 21,
   "id": "74f880e4",
   "metadata": {},
   "outputs": [],
   "source": [
    "GILD.to_csv('./data/2022_GILDCall.csv', index=False)\n",
    "GSK.to_csv('./data/2022_GSKCall.csv', index=False)"
   ]
  },
  {
   "cell_type": "code",
   "execution_count": 23,
   "id": "39e99b90",
   "metadata": {},
   "outputs": [
    {
     "data": {
      "text/plain": [
       "array(['2023-02-03', '2023-02-10', '2023-02-17', '2023-02-24',\n",
       "       '2023-03-03', '2023-03-10', '2023-03-17', '2023-05-19',\n",
       "       '2023-06-16', '2023-08-18', '2024-01-19'], dtype=object)"
      ]
     },
     "execution_count": 23,
     "metadata": {},
     "output_type": "execute_result"
    }
   ],
   "source": [
    "GSK[GSK['date']=='2023-01-31']['exdate'].unique()"
   ]
  },
  {
   "cell_type": "code",
   "execution_count": 24,
   "id": "f8a4639c",
   "metadata": {},
   "outputs": [
    {
     "data": {
      "text/plain": [
       "array(['2023-02-03', '2023-02-10', '2023-02-17', '2023-02-24',\n",
       "       '2023-03-03', '2023-03-10', '2023-03-17', '2023-04-21',\n",
       "       '2023-05-19', '2023-06-16', '2023-08-18', '2024-01-19'],\n",
       "      dtype=object)"
      ]
     },
     "execution_count": 24,
     "metadata": {},
     "output_type": "execute_result"
    }
   ],
   "source": [
    "GILD[GILD['date']=='2023-01-31']['exdate'].unique()"
   ]
  },
  {
   "cell_type": "code",
   "execution_count": null,
   "id": "385b09cc",
   "metadata": {},
   "outputs": [],
   "source": []
  }
 ],
 "metadata": {
  "kernelspec": {
   "display_name": "Python 3 (ipykernel)",
   "language": "python",
   "name": "python3"
  },
  "language_info": {
   "codemirror_mode": {
    "name": "ipython",
    "version": 3
   },
   "file_extension": ".py",
   "mimetype": "text/x-python",
   "name": "python",
   "nbconvert_exporter": "python",
   "pygments_lexer": "ipython3",
   "version": "3.9.16"
  }
 },
 "nbformat": 4,
 "nbformat_minor": 5
}
