{
 "cells": [
  {
   "cell_type": "code",
   "execution_count": 1,
   "id": "d976158d",
   "metadata": {},
   "outputs": [],
   "source": [
    "import matplotlib.pyplot as plt\n",
    "import pandas as pd\n",
    "import numpy as np\n",
    "import pickle\n",
    "import time\n",
    "import ot\n",
    "import os\n",
    "import seaborn as sns\n",
    "from datetime import datetime"
   ]
  },
  {
   "cell_type": "code",
   "execution_count": 2,
   "id": "8cf321e7",
   "metadata": {},
   "outputs": [],
   "source": [
    "sns.set_style(\"whitegrid\")"
   ]
  },
  {
   "cell_type": "code",
   "execution_count": 3,
   "id": "48073722",
   "metadata": {},
   "outputs": [],
   "source": [
    "#### GILD and GSK\n",
    "ticker1 = 'GILD'\n",
    "ticker2= 'GSK'"
   ]
  },
  {
   "cell_type": "code",
   "execution_count": 4,
   "id": "f734e027",
   "metadata": {},
   "outputs": [
    {
     "name": "stdout",
     "output_type": "stream",
     "text": [
      "0.005 1 0.9827 0.8767 0.5749\n",
      "0.005 2 0.9642 0.8398 0.3441\n",
      "0.005 3 0.9929 0.8985 0.5748\n",
      "0.005 4 0.9892 0.9165 0.4718\n",
      "0.01 1 0.9802 0.8476 0.1908\n",
      "0.01 2 0.9559 0.8452 0.3796\n",
      "0.01 3 0.9895 0.8604 0.3247\n",
      "0.01 4 0.9852 0.9025 0.4542\n"
     ]
    }
   ],
   "source": [
    "for thres in [0.005, 0.01]:\n",
    "    for maturity_idx2 in [1, 2, 3, 4]:\n",
    "        log_dir = './logs/{}_{}_cons_{}_{}'.format(ticker1, ticker2, thres, maturity_idx2)\n",
    "        res = pd.read_csv('{}/{}_{}.csv'.format(log_dir, ticker1, ticker2))\n",
    "        print(thres, maturity_idx2, round(res['Ratios'].max(), 4), round(res['Ratios'].mean(), 4), \n",
    "              round(res['Ratios'].min(), 4))"
   ]
  },
  {
   "cell_type": "code",
   "execution_count": null,
   "id": "e22e547d",
   "metadata": {},
   "outputs": [],
   "source": [
    "1 - (0.8767 + 0.8398 + 0.8985 + 0.9165 + 0.8476 + 0.8452 + 0.8604 + 0.9025)/8 "
   ]
  },
  {
   "cell_type": "code",
   "execution_count": 24,
   "id": "3dbbb5fe",
   "metadata": {},
   "outputs": [
    {
     "name": "stdout",
     "output_type": "stream",
     "text": [
      "Average size of the product for supports 1993.6363636363637\n"
     ]
    }
   ],
   "source": [
    "thres = 0.01\n",
    "maturity_idx2 = 1\n",
    "log_dir = './logs/{}_{}_cons_{}_{}'.format(ticker1, ticker2, thres, maturity_idx2)\n",
    "# res = pd.read_csv('{}/{}_{}.csv'.format(log_dir, ticker1, ticker2))\n",
    "with open('{}/{}_{}_py1.pickle'.format(log_dir, ticker1, ticker2), 'rb') as fp:\n",
    "    py1 = pickle.load(fp)\n",
    "with open('{}/{}_{}_py2.pickle'.format(log_dir, ticker1, ticker2), 'rb') as fp:\n",
    "    py2 = pickle.load(fp)\n",
    "with open('{}/{}_{}_px1.pickle'.format(log_dir, ticker1, ticker2), 'rb') as fp:\n",
    "    px1 = pickle.load(fp)\n",
    "with open('{}/{}_{}_px2.pickle'.format(log_dir, ticker1, ticker2), 'rb') as fp:\n",
    "    px2 = pickle.load(fp)\n",
    "\n",
    "size = 0\n",
    "for i in range(len(py1)):\n",
    "    size += px1[i].shape[0]*px2[i].shape[0]*py1[i].shape[0]*py2[i].shape[0]\n",
    "print('Average size of the product for supports', size/len(py1))"
   ]
  },
  {
   "cell_type": "code",
   "execution_count": null,
   "id": "f033911c",
   "metadata": {},
   "outputs": [],
   "source": []
  },
  {
   "cell_type": "code",
   "execution_count": null,
   "id": "d3208555",
   "metadata": {},
   "outputs": [],
   "source": []
  },
  {
   "cell_type": "code",
   "execution_count": null,
   "id": "ab07a6e5",
   "metadata": {},
   "outputs": [],
   "source": []
  },
  {
   "cell_type": "code",
   "execution_count": null,
   "id": "f62b970d",
   "metadata": {},
   "outputs": [],
   "source": [
    "sns.displot(res['Ratios'], stat='probability', color='tab:blue', height=4, aspect=1.6) # bins=np.linspace(0.955, 1.0, num=10),\n",
    "# plt.xticks(np.linspace(0.955, 1.0, num=10), fontsize=14)\n",
    "plt.yticks(fontsize=14)\n",
    "plt.xlabel('Ratios', fontsize = 14)\n",
    "# plt.ylabel('Proportion', fontsize = 14)\n",
    "# plt.savefig('{}/{}_{}.pdf'.format(log_dir, ticker1, ticker2), format='pdf',\n",
    "#             dpi=1000, bbox_inches='tight', pad_inches=0.1)\n",
    "plt.show()"
   ]
  },
  {
   "cell_type": "code",
   "execution_count": null,
   "id": "7e9955de",
   "metadata": {},
   "outputs": [],
   "source": []
  },
  {
   "cell_type": "code",
   "execution_count": null,
   "id": "8298cf3c",
   "metadata": {},
   "outputs": [],
   "source": []
  },
  {
   "cell_type": "code",
   "execution_count": null,
   "id": "52c61350",
   "metadata": {},
   "outputs": [],
   "source": []
  }
 ],
 "metadata": {
  "kernelspec": {
   "display_name": "Python 3 (ipykernel)",
   "language": "python",
   "name": "python3"
  },
  "language_info": {
   "codemirror_mode": {
    "name": "ipython",
    "version": 3
   },
   "file_extension": ".py",
   "mimetype": "text/x-python",
   "name": "python",
   "nbconvert_exporter": "python",
   "pygments_lexer": "ipython3",
   "version": "3.9.16"
  }
 },
 "nbformat": 4,
 "nbformat_minor": 5
}
