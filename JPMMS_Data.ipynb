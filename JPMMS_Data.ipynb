{
 "cells": [
  {
   "cell_type": "code",
   "execution_count": 1,
   "id": "b44531e6",
   "metadata": {},
   "outputs": [],
   "source": [
    "import datetime"
   ]
  },
  {
   "cell_type": "code",
   "execution_count": 2,
   "id": "664a8778",
   "metadata": {},
   "outputs": [],
   "source": [
    "import pandas as pd\n",
    "import numpy as np\n",
    "import matplotlib.pyplot as plt\n",
    "from scipy.interpolate import UnivariateSpline, interp1d, BPoly, PPoly, CubicSpline"
   ]
  },
  {
   "cell_type": "code",
   "execution_count": 3,
   "id": "2e02cf1b",
   "metadata": {},
   "outputs": [
    {
     "name": "stderr",
     "output_type": "stream",
     "text": [
      "C:\\Users\\Sakura\\AppData\\Local\\Temp\\ipykernel_6872\\1736230987.py:2: DtypeWarning: Columns (26) have mixed types. Specify dtype option on import or set low_memory=False.\n",
      "  option = pd.read_csv(o_path)\n"
     ]
    }
   ],
   "source": [
    "o_path = './data/2022_options_JPMMS.csv'\n",
    "option = pd.read_csv(o_path)"
   ]
  },
  {
   "cell_type": "code",
   "execution_count": 4,
   "id": "dd59ee06",
   "metadata": {},
   "outputs": [
    {
     "data": {
      "text/plain": [
       "(array([0], dtype=int64), array([522666], dtype=int64))"
      ]
     },
     "execution_count": 4,
     "metadata": {},
     "output_type": "execute_result"
    }
   ],
   "source": [
    "# AMSettlement\n",
    "# 0 options on the security expire at the market close of the last trading day\n",
    "# 1 – options on the security expire at the market open of the last trading day\n",
    "# In other words, if an option is AM settled, as most cashsettled index option classes are, we use one less day than\n",
    "# we use for PM-settled options to count days to expiration.\n",
    "np.unique(option['am_settlement'], return_counts=True)"
   ]
  },
  {
   "cell_type": "code",
   "execution_count": 5,
   "id": "37a3ce20",
   "metadata": {},
   "outputs": [],
   "source": [
    "call = option[option['cp_flag'] == 'C']\n",
    "call = call[~call['impl_volatility'].isna()]\n",
    "call = call[~call['last_date'].isna()]\n",
    "call = call[call['am_settlement'] == 0]\n",
    "call = call[['symbol', 'ticker', 'date', 'exdate', 'last_date', 'cp_flag', 'strike_price', 'best_bid', \n",
    "             'best_offer', 'volume', 'open_interest', 'impl_volatility', 'am_settlement', \n",
    "             'contract_size']]\n",
    "# WRDS times stikes with 1000\n",
    "call.loc[:, 'strike_price'] /= 1000\n",
    "call.loc[:, 'mid_price'] = (call['best_bid'] + call['best_offer'])/2\n",
    "call = call[call['open_interest'] > 0]\n",
    "call = call.reset_index(drop=True)\n",
    "df_len = call.shape[0]\n",
    "for k in range(df_len):\n",
    "    call.loc[k, 'maturity'] = (datetime.datetime.strptime(call.loc[k, 'exdate'], \"%Y-%m-%d\") -\n",
    "                               datetime.datetime.strptime(call.loc[k, 'date'], \"%Y-%m-%d\")).days"
   ]
  },
  {
   "cell_type": "code",
   "execution_count": 6,
   "id": "1b02e97d",
   "metadata": {
    "scrolled": false
   },
   "outputs": [
    {
     "name": "stdout",
     "output_type": "stream",
     "text": [
      "<class 'pandas.core.frame.DataFrame'>\n",
      "RangeIndex: 191079 entries, 0 to 191078\n",
      "Data columns (total 16 columns):\n",
      " #   Column           Non-Null Count   Dtype  \n",
      "---  ------           --------------   -----  \n",
      " 0   symbol           191079 non-null  object \n",
      " 1   ticker           191079 non-null  object \n",
      " 2   date             191079 non-null  object \n",
      " 3   exdate           191079 non-null  object \n",
      " 4   last_date        191079 non-null  object \n",
      " 5   cp_flag          191079 non-null  object \n",
      " 6   strike_price     191079 non-null  float64\n",
      " 7   best_bid         191079 non-null  float64\n",
      " 8   best_offer       191079 non-null  float64\n",
      " 9   volume           191079 non-null  int64  \n",
      " 10  open_interest    191079 non-null  int64  \n",
      " 11  impl_volatility  191079 non-null  float64\n",
      " 12  am_settlement    191079 non-null  int64  \n",
      " 13  contract_size    191079 non-null  int64  \n",
      " 14  mid_price        191079 non-null  float64\n",
      " 15  maturity         191079 non-null  float64\n",
      "dtypes: float64(6), int64(4), object(6)\n",
      "memory usage: 23.3+ MB\n"
     ]
    }
   ],
   "source": [
    "call.info()"
   ]
  },
  {
   "cell_type": "code",
   "execution_count": 7,
   "id": "546e7b09",
   "metadata": {},
   "outputs": [],
   "source": [
    "zero_cou = pd.read_csv('./data/2022_zeros.csv')\n",
    "forward = pd.read_csv('./data/2022_forward_JPMMS.csv')"
   ]
  },
  {
   "cell_type": "code",
   "execution_count": 8,
   "id": "5e376e7b",
   "metadata": {},
   "outputs": [],
   "source": [
    "max_days = call['maturity'].max() + 1.0\n",
    "date = zero_cou['date'].unique()\n",
    "date_len = date.shape[0]"
   ]
  },
  {
   "cell_type": "code",
   "execution_count": 9,
   "id": "9ed829aa",
   "metadata": {},
   "outputs": [
    {
     "data": {
      "text/plain": [
       "500.0"
      ]
     },
     "execution_count": 9,
     "metadata": {},
     "output_type": "execute_result"
    }
   ],
   "source": [
    "max_days"
   ]
  },
  {
   "cell_type": "code",
   "execution_count": 10,
   "id": "62a2b3bc",
   "metadata": {},
   "outputs": [],
   "source": [
    "interest_df = pd.DataFrame()\n",
    "for i in range(date_len):\n",
    "    x = zero_cou[zero_cou['date'] == date[i]]['days'].values\n",
    "    y = zero_cou[zero_cou['date'] == date[i]]['rate'].values\n",
    "    f = interp1d(x, y, fill_value=(y.min(), y.max()), bounds_error=False)\n",
    "#     days_arr = np.arange(x.min(), max_days, 1.0)\n",
    "    days_arr = np.arange(max_days)\n",
    "    rate_arr = f(days_arr)\n",
    "    df = pd.DataFrame({'days': days_arr, 'rate': rate_arr})\n",
    "#     short_days = np.arange(0.0, x.min(), 1.0)\n",
    "#     short_rate = zero_cou[(zero_cou['date'] == date[i]) & (zero_cou['days'] == x.min())]['rate'].values\n",
    "#     short_df = pd.DataFrame({'days': short_days, 'rate': short_rate*np.ones_like(short_days)})\n",
    "#     df = pd.concat([short_df, df], ignore_index=True)\n",
    "    df.loc[:, 'date'] = date[i]\n",
    "    interest_df = pd.concat([interest_df, df], ignore_index=True)"
   ]
  },
  {
   "cell_type": "code",
   "execution_count": 11,
   "id": "79456544",
   "metadata": {},
   "outputs": [],
   "source": [
    "for i in range(call.shape[0]):\n",
    "    cur_day = call.iloc[i]['date']\n",
    "    maturity = call.iloc[i]['maturity']\n",
    "    rate = interest_df[(interest_df['days']==maturity) & (interest_df['date']==cur_day)]['rate'].values\n",
    "    call.loc[i, 'rf_rate'] = rate"
   ]
  },
  {
   "cell_type": "code",
   "execution_count": 12,
   "id": "8f3fe402",
   "metadata": {},
   "outputs": [
    {
     "data": {
      "text/plain": [
       "array([0], dtype=int64)"
      ]
     },
     "execution_count": 12,
     "metadata": {},
     "output_type": "execute_result"
    }
   ],
   "source": [
    "forward['AMSettlement'].unique()"
   ]
  },
  {
   "cell_type": "code",
   "execution_count": 13,
   "id": "a4c5aa81",
   "metadata": {},
   "outputs": [
    {
     "data": {
      "text/plain": [
       "(array(['JPM', 'MS'], dtype=object), array(['JPM', 'MS'], dtype=object))"
      ]
     },
     "execution_count": 13,
     "metadata": {},
     "output_type": "execute_result"
    }
   ],
   "source": [
    "option['ticker'].unique(), forward['ticker'].unique()"
   ]
  },
  {
   "cell_type": "code",
   "execution_count": 14,
   "id": "8f9ee947",
   "metadata": {
    "scrolled": false
   },
   "outputs": [],
   "source": [
    "for name in ['JPM', 'MS']:\n",
    "    for i in range(date.shape[0]):\n",
    "        f_date = forward[(forward['date']==date[i]) & (forward['ticker'] == name)]['expiration'].unique()\n",
    "        opt_date = call[(call['date']==date[i]) & (call['ticker'] == name)]['exdate'].unique()\n",
    "        if not set(opt_date).issubset(opt_date):\n",
    "            print('There are dates when option is expired but no forward price info.')"
   ]
  },
  {
   "cell_type": "code",
   "execution_count": 15,
   "id": "4529ec5a",
   "metadata": {},
   "outputs": [],
   "source": [
    "for i in range(call.shape[0]):\n",
    "    name = call.iloc[i]['ticker']\n",
    "    cur_day = call.iloc[i]['date']\n",
    "    maturity = call.iloc[i]['exdate']\n",
    "    am_set = call.iloc[i]['am_settlement']\n",
    "    fwd_price = forward[(forward['date'] == cur_day) & (forward['expiration'] == maturity) & \n",
    "                        (forward['ticker'] == name)]['ForwardPrice'].values\n",
    "    call.loc[i, 'forward'] = fwd_price"
   ]
  },
  {
   "cell_type": "code",
   "execution_count": 16,
   "id": "406172cb",
   "metadata": {},
   "outputs": [],
   "source": [
    "JPM = call[call['ticker'] == 'JPM']\n",
    "MS = call[call['ticker'] == 'MS']"
   ]
  },
  {
   "cell_type": "code",
   "execution_count": 17,
   "id": "902b2fa7",
   "metadata": {},
   "outputs": [
    {
     "name": "stdout",
     "output_type": "stream",
     "text": [
      "<class 'pandas.core.frame.DataFrame'>\n",
      "Int64Index: 104357 entries, 0 to 179710\n",
      "Data columns (total 18 columns):\n",
      " #   Column           Non-Null Count   Dtype  \n",
      "---  ------           --------------   -----  \n",
      " 0   symbol           104357 non-null  object \n",
      " 1   ticker           104357 non-null  object \n",
      " 2   date             104357 non-null  object \n",
      " 3   exdate           104357 non-null  object \n",
      " 4   last_date        104357 non-null  object \n",
      " 5   cp_flag          104357 non-null  object \n",
      " 6   strike_price     104357 non-null  float64\n",
      " 7   best_bid         104357 non-null  float64\n",
      " 8   best_offer       104357 non-null  float64\n",
      " 9   volume           104357 non-null  int64  \n",
      " 10  open_interest    104357 non-null  int64  \n",
      " 11  impl_volatility  104357 non-null  float64\n",
      " 12  am_settlement    104357 non-null  int64  \n",
      " 13  contract_size    104357 non-null  int64  \n",
      " 14  mid_price        104357 non-null  float64\n",
      " 15  maturity         104357 non-null  float64\n",
      " 16  rf_rate          104357 non-null  float64\n",
      " 17  forward          104357 non-null  float64\n",
      "dtypes: float64(8), int64(4), object(6)\n",
      "memory usage: 15.1+ MB\n"
     ]
    }
   ],
   "source": [
    "JPM.info()"
   ]
  },
  {
   "cell_type": "code",
   "execution_count": 18,
   "id": "64e7041f",
   "metadata": {},
   "outputs": [
    {
     "name": "stdout",
     "output_type": "stream",
     "text": [
      "<class 'pandas.core.frame.DataFrame'>\n",
      "Int64Index: 86722 entries, 89768 to 191078\n",
      "Data columns (total 18 columns):\n",
      " #   Column           Non-Null Count  Dtype  \n",
      "---  ------           --------------  -----  \n",
      " 0   symbol           86722 non-null  object \n",
      " 1   ticker           86722 non-null  object \n",
      " 2   date             86722 non-null  object \n",
      " 3   exdate           86722 non-null  object \n",
      " 4   last_date        86722 non-null  object \n",
      " 5   cp_flag          86722 non-null  object \n",
      " 6   strike_price     86722 non-null  float64\n",
      " 7   best_bid         86722 non-null  float64\n",
      " 8   best_offer       86722 non-null  float64\n",
      " 9   volume           86722 non-null  int64  \n",
      " 10  open_interest    86722 non-null  int64  \n",
      " 11  impl_volatility  86722 non-null  float64\n",
      " 12  am_settlement    86722 non-null  int64  \n",
      " 13  contract_size    86722 non-null  int64  \n",
      " 14  mid_price        86722 non-null  float64\n",
      " 15  maturity         86722 non-null  float64\n",
      " 16  rf_rate          86722 non-null  float64\n",
      " 17  forward          86722 non-null  float64\n",
      "dtypes: float64(8), int64(4), object(6)\n",
      "memory usage: 12.6+ MB\n"
     ]
    }
   ],
   "source": [
    "MS.info()"
   ]
  },
  {
   "cell_type": "code",
   "execution_count": 19,
   "id": "74f880e4",
   "metadata": {},
   "outputs": [],
   "source": [
    "JPM.to_csv('./data/2022_JPMCall.csv', index=False)\n",
    "MS.to_csv('./data/2022_MSCall.csv', index=False)"
   ]
  },
  {
   "cell_type": "code",
   "execution_count": 21,
   "id": "39e99b90",
   "metadata": {},
   "outputs": [
    {
     "data": {
      "text/plain": [
       "array(['2023-02-03', '2023-02-10', '2023-02-17', '2023-02-24',\n",
       "       '2023-03-03', '2023-03-10', '2023-03-17', '2023-04-21',\n",
       "       '2023-06-16', '2023-07-21', '2023-09-15', '2024-01-19'],\n",
       "      dtype=object)"
      ]
     },
     "execution_count": 21,
     "metadata": {},
     "output_type": "execute_result"
    }
   ],
   "source": [
    "JPM[JPM['date']=='2023-01-31']['exdate'].unique()"
   ]
  },
  {
   "cell_type": "code",
   "execution_count": 22,
   "id": "f8a4639c",
   "metadata": {},
   "outputs": [
    {
     "data": {
      "text/plain": [
       "array(['2023-02-03', '2023-02-10', '2023-02-17', '2023-02-24',\n",
       "       '2023-03-03', '2023-03-10', '2023-03-17', '2023-04-21',\n",
       "       '2023-06-16', '2023-07-21', '2023-09-15', '2024-01-19'],\n",
       "      dtype=object)"
      ]
     },
     "execution_count": 22,
     "metadata": {},
     "output_type": "execute_result"
    }
   ],
   "source": [
    "MS[MS['date']=='2023-01-31']['exdate'].unique()"
   ]
  },
  {
   "cell_type": "code",
   "execution_count": null,
   "id": "ffeee49b",
   "metadata": {},
   "outputs": [],
   "source": []
  },
  {
   "cell_type": "code",
   "execution_count": null,
   "id": "2058b9a0",
   "metadata": {},
   "outputs": [],
   "source": []
  },
  {
   "cell_type": "code",
   "execution_count": null,
   "id": "385b09cc",
   "metadata": {},
   "outputs": [],
   "source": []
  }
 ],
 "metadata": {
  "kernelspec": {
   "display_name": "Python 3 (ipykernel)",
   "language": "python",
   "name": "python3"
  },
  "language_info": {
   "codemirror_mode": {
    "name": "ipython",
    "version": 3
   },
   "file_extension": ".py",
   "mimetype": "text/x-python",
   "name": "python",
   "nbconvert_exporter": "python",
   "pygments_lexer": "ipython3",
   "version": "3.9.16"
  }
 },
 "nbformat": 4,
 "nbformat_minor": 5
}
